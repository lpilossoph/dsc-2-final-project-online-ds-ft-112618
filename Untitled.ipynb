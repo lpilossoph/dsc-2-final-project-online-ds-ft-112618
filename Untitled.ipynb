{
 "cells": [
  {
   "cell_type": "markdown",
   "metadata": {},
   "source": [
    "# <font color=pink|>Table of Contents:</font>\n",
    "### <a href='#Part_1'>Part 1: Data Inspection</a> \n",
    "### <a href='#Part_2'>Part 2: Hypothesis Testing and Statistical Analyses</a>\n",
    "> **<a href='#Part_2a'>Part 2a: Question 1</a>**  \n",
    ">> **<a href='#Part_2aa'>Question 1a</a>**    \n",
    "\n",
    "> **<a href='#Part_2b'>Part 2b: Question 2</a>**  \n",
    "\n",
    "> **<a href='#Part_2c'>Part 2c: Question 3</a>**  \n",
    "\n",
    "> **<a href='#Part_2d'>Part 2d: Question 4</a>**    \n",
    "### <a href='#Part_3'>Part 3: Conclusion and Recommendations</a>\n",
    "### <a href='#Part_4'>Part 4: Future Work</a>"
   ]
  },
  {
   "cell_type": "code",
   "execution_count": 1,
   "metadata": {},
   "outputs": [],
   "source": [
    "# @hidden_cell\n",
    "import sqlite3\n",
    "import scipy\n",
    "import pandas as pd\n",
    "import numpy as np\n",
    "import pandas as pd\n",
    "import statsmodels as sm\n",
    "import seaborn as sns\n",
    "import statsmodels.formula.api as smf\n",
    "import matplotlib.pyplot as plt\n",
    "import warnings\n",
    "import statsmodels.api as sm\n",
    "import sqlalchemy\n",
    "import statsmodels.stats.power as smp\n",
    "warnings.filterwarnings('ignore')\n",
    "from __future__ import print_function, division\n",
    "from pandas.api.types import CategoricalDtype\n",
    "from sqlalchemy import create_engine\n",
    "from sqlalchemy.orm import Session, sessionmaker\n",
    "from sqlalchemy import inspect\n",
    "from statsmodels import stats\n",
    "from statsmodels.stats import multicomp\n",
    "\n",
    "from IPython.display import Image\n",
    "from statsmodels.formula.api import ols\n",
    "from statsmodels.stats.multicomp import pairwise_tukeyhsd\n",
    "from statsmodels.stats.multicomp import MultiComparison\n",
    "from scipy import stats\n",
    "from itertools import combinations\n",
    "from sklearn.linear_model import LinearRegression\n",
    "from sklearn.metrics import mean_squared_error\n",
    "from sklearn.model_selection import cross_val_score\n",
    "from sklearn.model_selection import train_test_split\n",
    "from sklearn.feature_selection import RFE\n",
    "conn = sqlite3.connect('data.sqlite', detect_types=sqlite3.PARSE_COLNAMES)\n",
    "cur = conn.cursor()\n",
    "engine = create_engine(\"sqlite:///Northwind_small.sqlite\", echo=False)\n",
    "Session = sessionmaker(bind=engine)\n",
    "session = Session()\n",
    "inspector = inspect(engine)\n",
    "alpha = 0.05"
   ]
  },
  {
   "cell_type": "markdown",
   "metadata": {},
   "source": [
    "## For Project 2 we are asked to analyze the Northwind Database & provide recommendations to the business based on statistical inference. For reference, the database schema is pictured:"
   ]
  },
  {
   "cell_type": "markdown",
   "metadata": {},
   "source": [
    "<img src='Northwind_ERD.png'>"
   ]
  },
  {
   "cell_type": "markdown",
   "metadata": {},
   "source": [
    "<a id='Part_1'></a>"
   ]
  },
  {
   "cell_type": "markdown",
   "metadata": {},
   "source": [
    "# Part 1: Data Inspection and Investigation"
   ]
  },
  {
   "cell_type": "code",
   "execution_count": 1166,
   "metadata": {},
   "outputs": [
    {
     "name": "stdout",
     "output_type": "stream",
     "text": [
      "['Category', 'Customer', 'CustomerCustomerDemo', 'CustomerDemographic', 'Employee', 'EmployeeTerritory', 'Order', 'OrderDetail', 'Product', 'Region', 'Shipper', 'Supplier', 'Territory']\n"
     ]
    }
   ],
   "source": [
    "print(inspector.get_table_names()) ## Inspecting the table names so that data can be converted to a pandas dataframe "
   ]
  },
  {
   "cell_type": "code",
   "execution_count": 1167,
   "metadata": {},
   "outputs": [],
   "source": [
    "## Creating pandas dataframes in order to inspect the data further prior to statistical analysis:\n",
    "df_orderdetail = pd.read_sql_query(\"SELECT * FROM [OrderDetail]\", engine) \n",
    "df_orders = pd.read_sql_query(\"SELECT * FROM [Order]\", engine)\n",
    "df_products = pd.read_sql_query(\"SELECT * FROM [Product]\", engine)\n",
    "df_employees = pd.read_sql_query(\"SELECT * FROM [Employee]\", engine)\n",
    "df_customers = pd.read_sql_query(\"SELECT * FROM [Customer]\", engine)\n",
    "df_shippers = pd.read_sql_query(\"SELECT * FROM [Shipper]\", engine)\n",
    "df_suppliers = pd.read_sql_query(\"SELECT * FROM [Supplier]\", engine)\n",
    "# pd.scatter_matrix(df_orderdetail, alpha=0.5, figsize=(20, 20), diagonal='kde')\n",
    "# plt.show()"
   ]
  },
  {
   "cell_type": "code",
   "execution_count": 1258,
   "metadata": {
    "scrolled": true
   },
   "outputs": [],
   "source": [
    "## Joining the tables in pandas with the relevant columns that will help me answer the questions I have:\n",
    "df_products.rename(columns={'SupplierId':'ProductId'}, inplace=True)\n",
    "df_orders.rename(columns={'Id': 'OrderId'}, inplace=True)\n",
    "df_employees.rename(columns={'Id': 'EmployeeId'}, inplace=True)\n",
    "df = pd.merge(df_orders[['OrderId', 'CustomerId', 'ShipCountry', 'EmployeeId']], df_orderdetail[['OrderId', 'ProductId', 'UnitPrice', 'Quantity', 'Discount']], on='OrderId')\n",
    "df = pd.merge(df[['CustomerId', 'ShipCountry', 'EmployeeId', 'ProductId', 'UnitPrice', 'Quantity', 'Discount']], df_employees[['EmployeeId']], on='EmployeeId')\n",
    "features = df.drop(columns='Quantity')\n",
    "df1 = pd.merge(df_orderdetail[['UnitPrice', 'Quantity', 'ProductId']], df_products[['ProductId', 'CategoryId']], on='ProductId')\n",
    "## Copying an original dataframe for each question should the data need to be manipulated from its original structure\n",
    "Q1 = df.copy() \n",
    "Q2 = df.copy()\n",
    "Q3 = df.copy()\n",
    "Q4 = df1.copy()"
   ]
  },
  {
   "cell_type": "markdown",
   "metadata": {},
   "source": [
    "## Post-Data Inspection Questions:\n",
    "\n",
    "**1. Do discounts have a statistically significant effect on the number of products customers order? If so at what level?**   \n",
    "**2. Do certain employees sell more products than others?**  \n",
    "**3. Do certain countries order more products than others?**  \n",
    "**4. Do clients buy more meat items or vegetarian items?**"
   ]
  },
  {
   "cell_type": "markdown",
   "metadata": {},
   "source": [
    "<a id='Part_2'></a>"
   ]
  },
  {
   "cell_type": "markdown",
   "metadata": {},
   "source": [
    "# Part 2: Hypothesis Testing and Statistical Analyses:"
   ]
  },
  {
   "cell_type": "markdown",
   "metadata": {},
   "source": [
    "<a id='Part_2a'></a>"
   ]
  },
  {
   "cell_type": "markdown",
   "metadata": {},
   "source": [
    "## Part 2A: \n",
    "## Question 1: Do discounts have a statistically significant effect on the number of products customers order? "
   ]
  },
  {
   "cell_type": "markdown",
   "metadata": {},
   "source": [
    "## The Alternative and Null Hypothesis:\n",
    "### 𝐻a: The average quantity of products purchased per order increases when a discount is applied. (H1: μ1 < μ2)\n",
    "### 𝐻o: The average quantity of products ordered is equal to or less than when a discount is applied. (H0: μ1 >= μ2)"
   ]
  },
  {
   "cell_type": "code",
   "execution_count": 1169,
   "metadata": {
    "scrolled": false
   },
   "outputs": [],
   "source": [
    "# Transforming the data so that discount is treated as categorical (no/yes : 0/1)\n",
    "for i in Q1['Discount']:\n",
    "    if i == 0.00:\n",
    "        Q1.Discount.replace(i, 0, inplace=True)\n",
    "        \n",
    "    else:\n",
    "        Q1.Discount.replace(i, 1, inplace=True)\n",
    "\n",
    "Q1['Discount'] = Q1.Discount.astype(int)\n",
    "discounted = Q1[Q1.Discount == 1]\n",
    "retail = Q1[Q1.Discount == 0]\n",
    "X = discounted.iloc[:,[5]].as_matrix()\n",
    "Y = retail.iloc[:,[5]].as_matrix()"
   ]
  },
  {
   "cell_type": "code",
   "execution_count": 1170,
   "metadata": {},
   "outputs": [
    {
     "data": {
      "text/plain": [
       "LeveneResult(statistic=array([14.8326717]), pvalue=array([0.00012091]))"
      ]
     },
     "execution_count": 1170,
     "metadata": {},
     "output_type": "execute_result"
    }
   ],
   "source": [
    "# Levene test to test the assumption of equal variance\n",
    "scipy.stats.levene(X,Y)"
   ]
  },
  {
   "cell_type": "code",
   "execution_count": 1171,
   "metadata": {
    "scrolled": true
   },
   "outputs": [
    {
     "data": {
      "text/plain": [
       "Ttest_indResult(statistic=array([6.4785632]), pvalue=array([1.14409245e-10]))"
      ]
     },
     "execution_count": 1171,
     "metadata": {},
     "output_type": "execute_result"
    }
   ],
   "source": [
    "# 2 Sample t-test \n",
    "stats.ttest_ind(X,Y, equal_var=True)"
   ]
  },
  {
   "cell_type": "code",
   "execution_count": 1172,
   "metadata": {},
   "outputs": [
    {
     "data": {
      "text/plain": [
       "0.000879325"
      ]
     },
     "execution_count": 1172,
     "metadata": {},
     "output_type": "execute_result"
    }
   ],
   "source": [
    "# Divide p-value by 2 because we want to know if discount>no discount = one tailed \n",
    "real_pvalue = 0.00175865/2\n",
    "real_pvalue"
   ]
  },
  {
   "cell_type": "code",
   "execution_count": 1173,
   "metadata": {
    "scrolled": false
   },
   "outputs": [
    {
     "data": {
      "text/plain": [
       "True"
      ]
     },
     "execution_count": 1173,
     "metadata": {},
     "output_type": "execute_result"
    }
   ],
   "source": [
    "# Is our p-value less than our alpha at 0.05?\n",
    "real_pvalue < alpha"
   ]
  },
  {
   "cell_type": "markdown",
   "metadata": {},
   "source": [
    "# RESULT: REJECT THE NULL HYPOTHESIS\n",
    "## Explanation:"
   ]
  },
  {
   "cell_type": "markdown",
   "metadata": {},
   "source": [
    " * **Levene test:** The p-value > alpha value, therefore the assumption of equal variance is fulfilled  \n",
    " \n",
    " * **Two Sample T-Test:** the p-value < alpha value, therefore we can REJECT the null hypothesis and conclude:"
   ]
  },
  {
   "cell_type": "markdown",
   "metadata": {},
   "source": [
    "## There is a significant increase in quantity of products ordered when a discount is applied."
   ]
  },
  {
   "cell_type": "markdown",
   "metadata": {},
   "source": [
    "<a id='Part_2aa'></a>"
   ]
  },
  {
   "cell_type": "markdown",
   "metadata": {},
   "source": [
    "## Question 1a: If discounts show a statistical significance on the quantity of products ordered, at what level(s) of discount do we see the significance?\n",
    "## The Alternative and Null Hypothesis:\n",
    "### 𝐻a: The average quantity of products purchased changes depending on level of discount. (μ1 ≠ μ2 ≠ μ3 ... ≠ μk)\n",
    "### 𝐻o: The average quantity of products purchase is unchanged at any level of discount. (μ1 = μ2 = μ3 ... = μk)"
   ]
  },
  {
   "cell_type": "code",
   "execution_count": 1174,
   "metadata": {},
   "outputs": [],
   "source": [
    "## Separating the discounted products into groups based on how heavily discounted they were:\n",
    "Q1A0 = df[df.Discount == 0] ## group 0 = no discount\n",
    "Q1A1 = df[(df['Discount'] > 0) & (df['Discount'] <= 0.05)] ## group 1 = discounted up to and including 5%\n",
    "Q1A2 = df[(df['Discount'] > 0.05) & (df['Discount'] <= 0.1)] ## group 2 = 6% - 10%\n",
    "Q1A3 = df[(df['Discount'] > 0.1) & (df['Discount'] <= 0.15)] ## group 3 = 11% - 15%\n",
    "Q1A4 = df[(df['Discount'] > 0.15) & (df['Discount'] <= 0.2)] ## group 4 = 16% - 20%\n",
    "Q1A5 = df[(df['Discount'] > 0.2) & (df['Discount'] <= 0.25)] ## group 5 = 21% - 25%"
   ]
  },
  {
   "cell_type": "code",
   "execution_count": 1175,
   "metadata": {},
   "outputs": [],
   "source": [
    "## Creating variables (A,B,C...F) representing an array of the grouped discount level data:\n",
    "A = Q1A0.iloc[:,[5]].as_matrix()\n",
    "B = Q1A1.iloc[:,[5]].as_matrix()\n",
    "C = Q1A2.iloc[:,[5]].as_matrix()\n",
    "D = Q1A3.iloc[:,[5]].as_matrix()\n",
    "E = Q1A4.iloc[:,[5]].as_matrix()\n",
    "F = Q1A5.iloc[:,[5]].as_matrix()"
   ]
  },
  {
   "cell_type": "code",
   "execution_count": 1176,
   "metadata": {
    "scrolled": false
   },
   "outputs": [
    {
     "name": "stdout",
     "output_type": "stream",
     "text": [
      "LeveneResult(statistic=array([3.11984562]), pvalue=array([0.00824073]))\n",
      "KruskalResult(statistic=47.34684451764807, pvalue=4.827644523500315e-09)\n",
      "F_onewayResult(statistic=array([9.04072838]), pvalue=array([1.61884722e-08]))\n"
     ]
    },
    {
     "data": {
      "text/html": [
       "<table class=\"simpletable\">\n",
       "<caption>Multiple Comparison of Means - Tukey HSD,FWER=0.05</caption>\n",
       "<tr>\n",
       "  <th>group1</th> <th>group2</th> <th>meandiff</th>   <th>lower</th>   <th>upper</th>  <th>reject</th>\n",
       "</tr>\n",
       "<tr>\n",
       "    <td>0.0</td>   <td>0.01</td>  <td>-19.7153</td> <td>-80.3306</td> <td>40.9001</td>  <td>False</td>\n",
       "</tr>\n",
       "<tr>\n",
       "    <td>0.0</td>   <td>0.02</td>  <td>-19.7153</td>  <td>-62.593</td> <td>23.1625</td>  <td>False</td>\n",
       "</tr>\n",
       "<tr>\n",
       "    <td>0.0</td>   <td>0.03</td>  <td>-20.0486</td> <td>-55.0714</td> <td>14.9742</td>  <td>False</td>\n",
       "</tr>\n",
       "<tr>\n",
       "    <td>0.0</td>   <td>0.04</td>  <td>-20.7153</td> <td>-81.3306</td> <td>39.9001</td>  <td>False</td>\n",
       "</tr>\n",
       "<tr>\n",
       "    <td>0.0</td>   <td>0.05</td>   <td>6.2955</td>   <td>1.5381</td>  <td>11.053</td>   <td>True</td> \n",
       "</tr>\n",
       "<tr>\n",
       "    <td>0.0</td>   <td>0.06</td>  <td>-19.7153</td> <td>-80.3306</td> <td>40.9001</td>  <td>False</td>\n",
       "</tr>\n",
       "<tr>\n",
       "    <td>0.0</td>    <td>0.1</td>   <td>3.5217</td>   <td>-1.3783</td> <td>8.4217</td>   <td>False</td>\n",
       "</tr>\n",
       "<tr>\n",
       "    <td>0.0</td>   <td>0.15</td>   <td>6.6669</td>    <td>1.551</td>  <td>11.7828</td>  <td>True</td> \n",
       "</tr>\n",
       "<tr>\n",
       "    <td>0.0</td>    <td>0.2</td>   <td>5.3096</td>   <td>0.2508</td>  <td>10.3684</td>  <td>True</td> \n",
       "</tr>\n",
       "<tr>\n",
       "    <td>0.0</td>   <td>0.25</td>    <td>6.525</td>   <td>1.3647</td>  <td>11.6852</td>  <td>True</td> \n",
       "</tr>\n",
       "<tr>\n",
       "   <td>0.01</td>   <td>0.02</td>     <td>0.0</td>   <td>-74.2101</td> <td>74.2101</td>  <td>False</td>\n",
       "</tr>\n",
       "<tr>\n",
       "   <td>0.01</td>   <td>0.03</td>   <td>-0.3333</td> <td>-70.2993</td> <td>69.6326</td>  <td>False</td>\n",
       "</tr>\n",
       "<tr>\n",
       "   <td>0.01</td>   <td>0.04</td>    <td>-1.0</td>   <td>-86.6905</td> <td>84.6905</td>  <td>False</td>\n",
       "</tr>\n",
       "<tr>\n",
       "   <td>0.01</td>   <td>0.05</td>   <td>26.0108</td>  <td>-34.745</td> <td>86.7667</td>  <td>False</td>\n",
       "</tr>\n",
       "<tr>\n",
       "   <td>0.01</td>   <td>0.06</td>     <td>0.0</td>   <td>-85.6905</td> <td>85.6905</td>  <td>False</td>\n",
       "</tr>\n",
       "<tr>\n",
       "   <td>0.01</td>    <td>0.1</td>   <td>23.237</td>  <td>-37.5302</td> <td>84.0042</td>  <td>False</td>\n",
       "</tr>\n",
       "<tr>\n",
       "   <td>0.01</td>   <td>0.15</td>   <td>26.3822</td> <td>-34.4028</td> <td>87.1671</td>  <td>False</td>\n",
       "</tr>\n",
       "<tr>\n",
       "   <td>0.01</td>    <td>0.2</td>   <td>25.0248</td> <td>-35.7554</td> <td>85.805</td>   <td>False</td>\n",
       "</tr>\n",
       "<tr>\n",
       "   <td>0.01</td>   <td>0.25</td>   <td>26.2403</td> <td>-34.5485</td> <td>87.029</td>   <td>False</td>\n",
       "</tr>\n",
       "<tr>\n",
       "   <td>0.02</td>   <td>0.03</td>   <td>-0.3333</td> <td>-55.6463</td> <td>54.9796</td>  <td>False</td>\n",
       "</tr>\n",
       "<tr>\n",
       "   <td>0.02</td>   <td>0.04</td>    <td>-1.0</td>   <td>-75.2101</td> <td>73.2101</td>  <td>False</td>\n",
       "</tr>\n",
       "<tr>\n",
       "   <td>0.02</td>   <td>0.05</td>   <td>26.0108</td> <td>-17.0654</td> <td>69.087</td>   <td>False</td>\n",
       "</tr>\n",
       "<tr>\n",
       "   <td>0.02</td>   <td>0.06</td>     <td>0.0</td>   <td>-74.2101</td> <td>74.2101</td>  <td>False</td>\n",
       "</tr>\n",
       "<tr>\n",
       "   <td>0.02</td>    <td>0.1</td>   <td>23.237</td>  <td>-19.8552</td> <td>66.3292</td>  <td>False</td>\n",
       "</tr>\n",
       "<tr>\n",
       "   <td>0.02</td>   <td>0.15</td>   <td>26.3822</td> <td>-16.7351</td> <td>69.4994</td>  <td>False</td>\n",
       "</tr>\n",
       "<tr>\n",
       "   <td>0.02</td>    <td>0.2</td>   <td>25.0248</td> <td>-18.0857</td> <td>68.1354</td>  <td>False</td>\n",
       "</tr>\n",
       "<tr>\n",
       "   <td>0.02</td>   <td>0.25</td>   <td>26.2403</td> <td>-16.8823</td> <td>69.3628</td>  <td>False</td>\n",
       "</tr>\n",
       "<tr>\n",
       "   <td>0.03</td>   <td>0.04</td>   <td>-0.6667</td> <td>-70.6326</td> <td>69.2993</td>  <td>False</td>\n",
       "</tr>\n",
       "<tr>\n",
       "   <td>0.03</td>   <td>0.05</td>   <td>26.3441</td>  <td>-8.9214</td> <td>61.6096</td>  <td>False</td>\n",
       "</tr>\n",
       "<tr>\n",
       "   <td>0.03</td>   <td>0.06</td>   <td>0.3333</td>  <td>-69.6326</td> <td>70.2993</td>  <td>False</td>\n",
       "</tr>\n",
       "<tr>\n",
       "   <td>0.03</td>    <td>0.1</td>   <td>23.5703</td> <td>-11.7147</td> <td>58.8553</td>  <td>False</td>\n",
       "</tr>\n",
       "<tr>\n",
       "   <td>0.03</td>   <td>0.15</td>   <td>26.7155</td>  <td>-8.6001</td> <td>62.0311</td>  <td>False</td>\n",
       "</tr>\n",
       "<tr>\n",
       "   <td>0.03</td>    <td>0.2</td>   <td>25.3582</td>  <td>-9.9492</td> <td>60.6656</td>  <td>False</td>\n",
       "</tr>\n",
       "<tr>\n",
       "   <td>0.03</td>   <td>0.25</td>   <td>26.5736</td>  <td>-8.7485</td> <td>61.8957</td>  <td>False</td>\n",
       "</tr>\n",
       "<tr>\n",
       "   <td>0.04</td>   <td>0.05</td>   <td>27.0108</td>  <td>-33.745</td> <td>87.7667</td>  <td>False</td>\n",
       "</tr>\n",
       "<tr>\n",
       "   <td>0.04</td>   <td>0.06</td>     <td>1.0</td>   <td>-84.6905</td> <td>86.6905</td>  <td>False</td>\n",
       "</tr>\n",
       "<tr>\n",
       "   <td>0.04</td>    <td>0.1</td>   <td>24.237</td>  <td>-36.5302</td> <td>85.0042</td>  <td>False</td>\n",
       "</tr>\n",
       "<tr>\n",
       "   <td>0.04</td>   <td>0.15</td>   <td>27.3822</td> <td>-33.4028</td> <td>88.1671</td>  <td>False</td>\n",
       "</tr>\n",
       "<tr>\n",
       "   <td>0.04</td>    <td>0.2</td>   <td>26.0248</td> <td>-34.7554</td> <td>86.805</td>   <td>False</td>\n",
       "</tr>\n",
       "<tr>\n",
       "   <td>0.04</td>   <td>0.25</td>   <td>27.2403</td> <td>-33.5485</td> <td>88.029</td>   <td>False</td>\n",
       "</tr>\n",
       "<tr>\n",
       "   <td>0.05</td>   <td>0.06</td>  <td>-26.0108</td> <td>-86.7667</td> <td>34.745</td>   <td>False</td>\n",
       "</tr>\n",
       "<tr>\n",
       "   <td>0.05</td>    <td>0.1</td>   <td>-2.7738</td>  <td>-9.1822</td> <td>3.6346</td>   <td>False</td>\n",
       "</tr>\n",
       "<tr>\n",
       "   <td>0.05</td>   <td>0.15</td>   <td>0.3714</td>   <td>-6.2036</td> <td>6.9463</td>   <td>False</td>\n",
       "</tr>\n",
       "<tr>\n",
       "   <td>0.05</td>    <td>0.2</td>   <td>-0.986</td>   <td>-7.5166</td> <td>5.5447</td>   <td>False</td>\n",
       "</tr>\n",
       "<tr>\n",
       "   <td>0.05</td>   <td>0.25</td>   <td>0.2294</td>   <td>-6.3801</td>  <td>6.839</td>   <td>False</td>\n",
       "</tr>\n",
       "<tr>\n",
       "   <td>0.06</td>    <td>0.1</td>   <td>23.237</td>  <td>-37.5302</td> <td>84.0042</td>  <td>False</td>\n",
       "</tr>\n",
       "<tr>\n",
       "   <td>0.06</td>   <td>0.15</td>   <td>26.3822</td> <td>-34.4028</td> <td>87.1671</td>  <td>False</td>\n",
       "</tr>\n",
       "<tr>\n",
       "   <td>0.06</td>    <td>0.2</td>   <td>25.0248</td> <td>-35.7554</td> <td>85.805</td>   <td>False</td>\n",
       "</tr>\n",
       "<tr>\n",
       "   <td>0.06</td>   <td>0.25</td>   <td>26.2403</td> <td>-34.5485</td> <td>87.029</td>   <td>False</td>\n",
       "</tr>\n",
       "<tr>\n",
       "    <td>0.1</td>   <td>0.15</td>   <td>3.1452</td>   <td>-3.5337</td>  <td>9.824</td>   <td>False</td>\n",
       "</tr>\n",
       "<tr>\n",
       "    <td>0.1</td>    <td>0.2</td>   <td>1.7879</td>   <td>-4.8474</td> <td>8.4231</td>   <td>False</td>\n",
       "</tr>\n",
       "<tr>\n",
       "    <td>0.1</td>   <td>0.25</td>   <td>3.0033</td>   <td>-3.7096</td> <td>9.7161</td>   <td>False</td>\n",
       "</tr>\n",
       "<tr>\n",
       "   <td>0.15</td>    <td>0.2</td>   <td>-1.3573</td>  <td>-8.1536</td> <td>5.4389</td>   <td>False</td>\n",
       "</tr>\n",
       "<tr>\n",
       "   <td>0.15</td>   <td>0.25</td>   <td>-0.1419</td>  <td>-7.014</td>  <td>6.7302</td>   <td>False</td>\n",
       "</tr>\n",
       "<tr>\n",
       "    <td>0.2</td>   <td>0.25</td>   <td>1.2154</td>   <td>-5.6143</td> <td>8.0451</td>   <td>False</td>\n",
       "</tr>\n",
       "</table>"
      ],
      "text/plain": [
       "<class 'statsmodels.iolib.table.SimpleTable'>"
      ]
     },
     "execution_count": 1176,
     "metadata": {},
     "output_type": "execute_result"
    }
   ],
   "source": [
    "print (scipy.stats.levene(A,B,C,D,E,F)) ## Levene test - test the assumption of equal variance among the variables\n",
    "print (scipy.stats.kruskal(A,B,C,D,E,F)) ## Krustal-Willis H test since the assumption of equal variance is not true\n",
    "print (scipy.stats.f_oneway(A,B,C,D,E,F)) ## ANOVA - test Ho that discount groups have no effect on quantity purchased\n",
    "\n",
    "df['Discount'] = df['Discount'].astype('category')\n",
    "mc = sm.stats.multicomp.MultiComparison(df['Quantity'],df['Discount'])\n",
    "result = mc.tukeyhsd()\n",
    "result.summary() ## Tukey test - further examine how discount groups differ from eachother in terms of significance"
   ]
  },
  {
   "cell_type": "markdown",
   "metadata": {},
   "source": [
    "# RESULT : REJECT THE NULL HYPOTHESIS\n",
    "### Explanation:"
   ]
  },
  {
   "cell_type": "markdown",
   "metadata": {},
   "source": [
    " * **Levene test:** p-value < alpha, therefore the assumption of equal variance among discount groups is not fulfilled**\n",
    "\n",
    " * **Kruskal-Wallis H test:** p-value < alpha to test for significance among the groups using the median, since the assumption of equal variance was not fulfilled. Result shows there is indeed a significant difference among the groups. However, this test does not tell us the specific differences between each group. For that, we will have to run an ANOVA even though the assumptions equal variance are not technically fulfilled.\n",
    " * **ANOVA:** F statistic value is 9.04 and that the P value < alpha showing that the null hypothesis is rejected in favor of the alternative hypothesis, indicating there is a significant difference among discount groups. \n",
    " * **Tukey test:** show that the mean difference in quantity purchased is most significant when comparing no discount to a 5%, 15%, 20%, and 25% discount. The biggest increase in mean quantity purchased occurs at the 15% level, followed closely by the 25% and 5% level."
   ]
  },
  {
   "cell_type": "markdown",
   "metadata": {},
   "source": [
    "## There is a significant increase in quantity of products ordered between levels of discounts"
   ]
  },
  {
   "cell_type": "markdown",
   "metadata": {},
   "source": [
    "### Examination of Effect Size and Statistical Power:"
   ]
  },
  {
   "cell_type": "code",
   "execution_count": 1177,
   "metadata": {},
   "outputs": [],
   "source": [
    "## Standardized effect size function\n",
    "def Cohen_d(group1, group2):\n",
    "    diff = group1.mean() - group2.mean()\n",
    "\n",
    "    n1, n2 = len(group1), len(group2)\n",
    "    var1 = group1.var()\n",
    "    var2 = group2.var()\n",
    "\n",
    "    # weighted average\n",
    "    pooled_var = (n1 * var1 + n2 * var2) / (n1 + n2)\n",
    "    \n",
    "    \n",
    "    d = diff / np.sqrt(pooled_var)\n",
    "    \n",
    "    return d"
   ]
  },
  {
   "cell_type": "code",
   "execution_count": 1261,
   "metadata": {},
   "outputs": [],
   "source": [
    "# creating variables to calculate unstandardized effect size \n",
    "A_rv = scipy.stats.norm(A.mean(), A.std())\n",
    "B_rv = scipy.stats.norm(B.mean(), B.std())\n",
    "D_rv = scipy.stats.norm(D.mean(), D.std())\n",
    "F_rv = scipy.stats.norm(F.mean(), F.std())\n",
    "A_sample = A_rv.rvs(1000)\n",
    "B_sample = B_rv.rvs(1000)\n",
    "D_sample = D_rv.rvs(1000)\n",
    "F_sample = F_rv.rvs(1000)\n",
    "differenceAB = B_sample.mean() - A_sample.mean()\n",
    "differenceAD = D_sample.mean() - A_sample.mean()\n",
    "differenceAF = F_sample.mean() - A_sample.mean()\n",
    "differenceBD = D_sample.mean() - B_sample.mean()"
   ]
  },
  {
   "cell_type": "code",
   "execution_count": 1262,
   "metadata": {},
   "outputs": [
    {
     "name": "stdout",
     "output_type": "stream",
     "text": [
      "The Cohen's D value: 0.37 represents a fairly small to medium effect of a 15% discount on the quantity purchased\n",
      "On average, there is a 22.5% increase in quantity of items purchased when a 15% discount is applied\n",
      "The Cohen's D value: 0.37 represents a fairly small to medium effect of a 25% discount on the quantity purchased\n",
      "On average, there is a 23.2% increase in quantity of items purchased when a 25% discount is applied\n",
      "The Cohen's D value: 0.29 represents a fairly small to medium effect of a 5% discount on the quantity purchased\n",
      "On average, there is a 16.7% increase in quantity of items purchased when a 5% discount is applied\n",
      "The Cohen's D value: 0.06 represents a negligible effect of a 15% discount vs 5% discount on the quantity purchased\n",
      "On average, there is a 6.5% increase in quantity of items purchased when a 15% discount is applied vs. a 5% discount\n"
     ]
    }
   ],
   "source": [
    "print (\"The Cohen's D value: \" + str(round(Cohen_d(D, A), 2)) + ' represents a fairly small to medium effect of a 15% discount on the quantity purchased') # Standardized effect size between 0 discount and 15% discount\n",
    "print ('On average, there is a ' + str(round((differenceAD/D_mean)*100, 1)) + '% increase in quantity of items purchased when a 15% discount is applied')\n",
    "print (\"The Cohen's D value: \" + str(round(Cohen_d(F, A), 2)) + ' represents a fairly small to medium effect of a 25% discount on the quantity purchased') # Standardized effect size between 0 discount and 25% discount\n",
    "print ('On average, there is a ' + str(round((differenceAF/F_mean)*100, 1)) + '% increase in quantity of items purchased when a 25% discount is applied')\n",
    "print (\"The Cohen's D value: \" + str(round(Cohen_d(B, A), 2)) + ' represents a fairly small to medium effect of a 5% discount on the quantity purchased') # Standardized effect size between 0 discount and 5% discount\n",
    "print ('On average, there is a ' + str(round((differenceAB/B_mean)*100, 1)) + '% increase in quantity of items purchased when a 5% discount is applied')\n",
    "print (\"The Cohen's D value: \" + str(round(Cohen_d(D, B), 2)) + ' represents a negligible effect of a 15% discount vs 5% discount on the quantity purchased') # Standardized effect size between 0 discount and 5% discount\n",
    "print ('On average, there is a ' + str(round((differenceBD/D_mean)*100, 1)) + '% increase in quantity of items purchased when a 15% discount is applied vs. a 5% discount')"
   ]
  },
  {
   "cell_type": "code",
   "execution_count": 1185,
   "metadata": {},
   "outputs": [
    {
     "name": "stdout",
     "output_type": "stream",
     "text": [
      "Minimum required sample size for our 15% group when comparing to our no discount group: 81.62; \n",
      "The 15% sample size fulfull this requirement\n"
     ]
    }
   ],
   "source": [
    "sample_size = smp.tt_ind_solve_power(effect_size=0.37, nobs1=1317, alpha=0.05, power=0.9, ratio=None)\n",
    "print('Minimum required sample size for our 15% group when comparing to our no discount group: {0:.2f}; \\nThe 15% sample size fulfull this requirement'.format(sample_size*1317))"
   ]
  },
  {
   "cell_type": "code",
   "execution_count": 1186,
   "metadata": {},
   "outputs": [
    {
     "name": "stdout",
     "output_type": "stream",
     "text": [
      "For no discount compared to 15% discount, our Statistical Power is: 0.99, meaning if the effect is truly \n",
      "present between no discount and 15% discount, then the null hypothesis would be rejected 99% of the time\n"
     ]
    }
   ],
   "source": [
    "power = smp.tt_ind_solve_power(effect_size=0.37, nobs1=1317, alpha=0.05, power=None, ratio=0.1192103265)\n",
    "print('For no discount compared to 15% discount, our Statistical Power is: {0:.2f}, meaning if the effect is truly \\npresent between no discount and 15% discount, then the null hypothesis would be rejected 99% of the time'.format(power))"
   ]
  },
  {
   "cell_type": "markdown",
   "metadata": {},
   "source": [
    "## Further Analysis:"
   ]
  },
  {
   "cell_type": "code",
   "execution_count": 1187,
   "metadata": {
    "scrolled": false
   },
   "outputs": [
    {
     "data": {
      "text/plain": [
       "<matplotlib.axes._subplots.AxesSubplot at 0x1c2bd5b550>"
      ]
     },
     "execution_count": 1187,
     "metadata": {},
     "output_type": "execute_result"
    },
    {
     "data": {
      "image/png": "[encoded data removed]",
      "text/plain": [
       "<Figure size 432x288 with 1 Axes>"
      ]
     },
     "metadata": {
      "needs_background": "light"
     },
     "output_type": "display_data"
    }
   ],
   "source": [
    "bins = [-.001, 0, 0.05, 0.10, 0.15, 0.20, 0.26] ##binning the discount levels for our regression\n",
    "bins_disc = pd.cut(df['Discount'], bins)\n",
    "bins_disc.value_counts().plot(kind='bar') ## visualizing the bins"
   ]
  },
  {
   "cell_type": "code",
   "execution_count": 1188,
   "metadata": {
    "scrolled": true
   },
   "outputs": [],
   "source": [
    "## Creating the dummy variables and dropping a column (0 Discount)\n",
    "disc_dummy = pd.get_dummies(bins_disc, prefix=\"Disc\", drop_first=True) \n",
    "final = df.drop(['Discount'], axis=1)\n",
    "final = pd.concat([final, disc_dummy], axis=1)"
   ]
  },
  {
   "cell_type": "code",
   "execution_count": 1189,
   "metadata": {},
   "outputs": [],
   "source": [
    "## Correcting column name syntax for the regression/ANOVA\n",
    "column_names = dict()\n",
    "for column in final.columns:\n",
    "    if '0' in column:\n",
    "        col_name = column.replace(\"(\", \"\").replace(\",\", \"_\").replace(\" \", \"\").replace(\"]\", \"\").replace(\"_0.0_0.05\", \"1\").replace(\"_0.05_0.1\", \"2\").replace(\"_0.1_0.15\", \"3\").replace(\"_0.15_0.2\", \"4\").replace(\"_0.2_0.26\", \"5\")\n",
    "        column_names[column] = col_name\n",
    "final.rename(columns=column_names, inplace=True)"
   ]
  },
  {
   "cell_type": "markdown",
   "metadata": {},
   "source": [
    "## Multiple Linear Regression of Quantity on Discount Levels:"
   ]
  },
  {
   "cell_type": "code",
   "execution_count": 1190,
   "metadata": {},
   "outputs": [
    {
     "data": {
      "text/html": [
       "<table class=\"simpletable\">\n",
       "<caption>OLS Regression Results</caption>\n",
       "<tr>\n",
       "  <th>Dep. Variable:</th>        <td>Quantity</td>     <th>  R-squared:         </th> <td>   0.021</td> \n",
       "</tr>\n",
       "<tr>\n",
       "  <th>Model:</th>                   <td>OLS</td>       <th>  Adj. R-squared:    </th> <td>   0.018</td> \n",
       "</tr>\n",
       "<tr>\n",
       "  <th>Method:</th>             <td>Least Squares</td>  <th>  F-statistic:       </th> <td>   9.041</td> \n",
       "</tr>\n",
       "<tr>\n",
       "  <th>Date:</th>             <td>Fri, 25 Jan 2019</td> <th>  Prob (F-statistic):</th> <td>1.62e-08</td> \n",
       "</tr>\n",
       "<tr>\n",
       "  <th>Time:</th>                 <td>17:55:37</td>     <th>  Log-Likelihood:    </th> <td> -9382.6</td> \n",
       "</tr>\n",
       "<tr>\n",
       "  <th>No. Observations:</th>      <td>  2155</td>      <th>  AIC:               </th> <td>1.878e+04</td>\n",
       "</tr>\n",
       "<tr>\n",
       "  <th>Df Residuals:</th>          <td>  2149</td>      <th>  BIC:               </th> <td>1.881e+04</td>\n",
       "</tr>\n",
       "<tr>\n",
       "  <th>Df Model:</th>              <td>     5</td>      <th>                     </th>     <td> </td>    \n",
       "</tr>\n",
       "<tr>\n",
       "  <th>Covariance Type:</th>      <td>nonrobust</td>    <th>                     </th>     <td> </td>    \n",
       "</tr>\n",
       "</table>\n",
       "<table class=\"simpletable\">\n",
       "<tr>\n",
       "    <td></td>       <th>coef</th>     <th>std err</th>      <th>t</th>      <th>P>|t|</th>  <th>[0.025</th>    <th>0.975]</th>  \n",
       "</tr>\n",
       "<tr>\n",
       "  <th>const</th> <td>   21.7153</td> <td>    0.519</td> <td>   41.813</td> <td> 0.000</td> <td>   20.697</td> <td>   22.734</td>\n",
       "</tr>\n",
       "<tr>\n",
       "  <th>Disc1</th> <td>    5.3368</td> <td>    1.456</td> <td>    3.666</td> <td> 0.000</td> <td>    2.482</td> <td>    8.192</td>\n",
       "</tr>\n",
       "<tr>\n",
       "  <th>Disc2</th> <td>    3.3882</td> <td>    1.520</td> <td>    2.229</td> <td> 0.026</td> <td>    0.407</td> <td>    6.369</td>\n",
       "</tr>\n",
       "<tr>\n",
       "  <th>Disc3</th> <td>    6.6669</td> <td>    1.591</td> <td>    4.190</td> <td> 0.000</td> <td>    3.546</td> <td>    9.788</td>\n",
       "</tr>\n",
       "<tr>\n",
       "  <th>Disc4</th> <td>    5.3096</td> <td>    1.574</td> <td>    3.374</td> <td> 0.001</td> <td>    2.224</td> <td>    8.395</td>\n",
       "</tr>\n",
       "<tr>\n",
       "  <th>Disc5</th> <td>    6.5250</td> <td>    1.605</td> <td>    4.065</td> <td> 0.000</td> <td>    3.377</td> <td>    9.673</td>\n",
       "</tr>\n",
       "</table>\n",
       "<table class=\"simpletable\">\n",
       "<tr>\n",
       "  <th>Omnibus:</th>       <td>786.055</td> <th>  Durbin-Watson:     </th> <td>   1.682</td>\n",
       "</tr>\n",
       "<tr>\n",
       "  <th>Prob(Omnibus):</th> <td> 0.000</td>  <th>  Jarque-Bera (JB):  </th> <td>3070.774</td>\n",
       "</tr>\n",
       "<tr>\n",
       "  <th>Skew:</th>          <td> 1.767</td>  <th>  Prob(JB):          </th> <td>    0.00</td>\n",
       "</tr>\n",
       "<tr>\n",
       "  <th>Kurtosis:</th>      <td> 7.660</td>  <th>  Cond. No.          </th> <td>    4.75</td>\n",
       "</tr>\n",
       "</table><br/><br/>Warnings:<br/>[1] Standard Errors assume that the covariance matrix of the errors is correctly specified."
      ],
      "text/plain": [
       "<class 'statsmodels.iolib.summary.Summary'>\n",
       "\"\"\"\n",
       "                            OLS Regression Results                            \n",
       "==============================================================================\n",
       "Dep. Variable:               Quantity   R-squared:                       0.021\n",
       "Model:                            OLS   Adj. R-squared:                  0.018\n",
       "Method:                 Least Squares   F-statistic:                     9.041\n",
       "Date:                Fri, 25 Jan 2019   Prob (F-statistic):           1.62e-08\n",
       "Time:                        17:55:37   Log-Likelihood:                -9382.6\n",
       "No. Observations:                2155   AIC:                         1.878e+04\n",
       "Df Residuals:                    2149   BIC:                         1.881e+04\n",
       "Df Model:                           5                                         \n",
       "Covariance Type:            nonrobust                                         \n",
       "==============================================================================\n",
       "                 coef    std err          t      P>|t|      [0.025      0.975]\n",
       "------------------------------------------------------------------------------\n",
       "const         21.7153      0.519     41.813      0.000      20.697      22.734\n",
       "Disc1          5.3368      1.456      3.666      0.000       2.482       8.192\n",
       "Disc2          3.3882      1.520      2.229      0.026       0.407       6.369\n",
       "Disc3          6.6669      1.591      4.190      0.000       3.546       9.788\n",
       "Disc4          5.3096      1.574      3.374      0.001       2.224       8.395\n",
       "Disc5          6.5250      1.605      4.065      0.000       3.377       9.673\n",
       "==============================================================================\n",
       "Omnibus:                      786.055   Durbin-Watson:                   1.682\n",
       "Prob(Omnibus):                  0.000   Jarque-Bera (JB):             3070.774\n",
       "Skew:                           1.767   Prob(JB):                         0.00\n",
       "Kurtosis:                       7.660   Cond. No.                         4.75\n",
       "==============================================================================\n",
       "\n",
       "Warnings:\n",
       "[1] Standard Errors assume that the covariance matrix of the errors is correctly specified.\n",
       "\"\"\""
      ]
     },
     "execution_count": 1190,
     "metadata": {},
     "output_type": "execute_result"
    }
   ],
   "source": [
    "## Performing the Multiple Linear Regression using Statsmodels\n",
    "outcome = 'Quantity'\n",
    "pred = final.drop(columns=['Quantity', 'CustomerId', 'ShipCountry', 'EmployeeId', 'ProductId', 'UnitPrice'], axis=1)\n",
    "pred_sum = \"+\".join(pred.columns)\n",
    "formula = outcome + \"~\" + pred_sum\n",
    "\n",
    "\n",
    "predictors_int = sm.tools.tools.add_constant(pred)\n",
    "model = sm.OLS(final['Quantity'],predictors_int).fit()\n",
    "model.summary()"
   ]
  },
  {
   "cell_type": "markdown",
   "metadata": {},
   "source": [
    "## ANOVA using Statsmodels:"
   ]
  },
  {
   "cell_type": "code",
   "execution_count": 1191,
   "metadata": {
    "scrolled": false
   },
   "outputs": [
    {
     "name": "stdout",
     "output_type": "stream",
     "text": [
      "                 sum_sq      df          F    PR(>F)\n",
      "Disc1       4772.688586     1.0  13.436304  0.000253\n",
      "Disc2       1764.379277     1.0   4.967166  0.025936\n",
      "Disc3       6234.997746     1.0  17.553068  0.000029\n",
      "Disc4       4044.436361     1.0  11.386093  0.000753\n",
      "Disc5       5870.222460     1.0  16.526135  0.000050\n",
      "Residual  763342.921407  2149.0        NaN       NaN\n"
     ]
    }
   ],
   "source": [
    "## Performing the ANOVA using Statsmodels\n",
    "formula = 'Quantity ~ Disc1 + Disc2 + Disc3 + Disc4 + Disc5'\n",
    "lm = ols(formula, final).fit()\n",
    "table = sm.stats.anova_lm(lm, typ=2)\n",
    "print(table)"
   ]
  },
  {
   "cell_type": "markdown",
   "metadata": {},
   "source": [
    "<a id='Part_2b'></a>"
   ]
  },
  {
   "cell_type": "markdown",
   "metadata": {},
   "source": [
    "## Question 2: Do certain employees sell more products than others per transaction?"
   ]
  },
  {
   "cell_type": "markdown",
   "metadata": {},
   "source": [
    "## Q2: The Alternative and Null Hypothesis:\n",
    "### 𝐻a: μ1 ≠ μ2 ≠ μ3 ... ≠ μk\n",
    "### Certain employees have a significant impact on the quantity of products purchased.\n",
    "### 𝐻o: μ1 = μ2 = μ3 ... = μk\n",
    "### The specific employee has no impact on the quantity of products purchased. \n",
    "\n",
    "### $\\mu_1 \\neq \\mu_2 \\neq \\mu_3 \\neq \\mu_4 \\geq \\mu_5 \\leq \\mu^5$"
   ]
  },
  {
   "cell_type": "code",
   "execution_count": 1192,
   "metadata": {},
   "outputs": [],
   "source": [
    "## Separating the dataframes by employee ID\n",
    "E1 = Q2[Q2.EmployeeId == 1]\n",
    "E2 = Q2[Q2.EmployeeId == 2]\n",
    "E3 = Q2[Q2.EmployeeId == 3]\n",
    "E4 = Q2[Q2.EmployeeId == 4]\n",
    "E5 = Q2[Q2.EmployeeId == 5]\n",
    "E6 = Q2[Q2.EmployeeId == 6]\n",
    "E7 = Q2[Q2.EmployeeId == 7]\n",
    "E8 = Q2[Q2.EmployeeId == 8]\n",
    "E9 = Q2[Q2.EmployeeId == 9]"
   ]
  },
  {
   "cell_type": "code",
   "execution_count": 1193,
   "metadata": {},
   "outputs": [],
   "source": [
    "## Creating np arrays with the new data frames\n",
    "G = E1.iloc[:,[5]].as_matrix()\n",
    "H = E2.iloc[:,[5]].as_matrix()\n",
    "I = E3.iloc[:,[5]].as_matrix()\n",
    "J = E4.iloc[:,[5]].as_matrix()\n",
    "K = E5.iloc[:,[5]].as_matrix()\n",
    "L = E5.iloc[:,[5]].as_matrix()\n",
    "M = E6.iloc[:,[5]].as_matrix()\n",
    "N = E7.iloc[:,[5]].as_matrix()\n",
    "O = E8.iloc[:,[5]].as_matrix()\n",
    "P = E9.iloc[:,[5]].as_matrix()"
   ]
  },
  {
   "cell_type": "code",
   "execution_count": 1194,
   "metadata": {},
   "outputs": [
    {
     "name": "stdout",
     "output_type": "stream",
     "text": [
      "LeveneResult(statistic=array([1.14932507]), pvalue=array([0.32395184]))\n",
      "F_onewayResult(statistic=array([1.56925233]), pvalue=array([0.11877312]))\n"
     ]
    },
    {
     "data": {
      "text/html": [
       "<table class=\"simpletable\">\n",
       "<caption>Multiple Comparison of Means - Tukey HSD,FWER=0.05</caption>\n",
       "<tr>\n",
       "  <th>group1</th> <th>group2</th> <th>meandiff</th>   <th>lower</th>   <th>upper</th>  <th>reject</th>\n",
       "</tr>\n",
       "<tr>\n",
       "     <td>1</td>      <td>2</td>     <td>2.481</td>   <td>-2.4718</td> <td>7.4338</td>   <td>False</td>\n",
       "</tr>\n",
       "<tr>\n",
       "     <td>1</td>      <td>3</td>    <td>1.8176</td>   <td>-2.7574</td> <td>6.3926</td>   <td>False</td>\n",
       "</tr>\n",
       "<tr>\n",
       "     <td>1</td>      <td>4</td>    <td>0.6851</td>   <td>-3.6015</td> <td>4.9717</td>   <td>False</td>\n",
       "</tr>\n",
       "<tr>\n",
       "     <td>1</td>      <td>5</td>    <td>3.3052</td>   <td>-3.0063</td> <td>9.6168</td>   <td>False</td>\n",
       "</tr>\n",
       "<tr>\n",
       "     <td>1</td>      <td>6</td>    <td>-1.6494</td>  <td>-7.1997</td> <td>3.9008</td>   <td>False</td>\n",
       "</tr>\n",
       "<tr>\n",
       "     <td>1</td>      <td>7</td>    <td>3.7997</td>   <td>-1.6651</td> <td>9.2645</td>   <td>False</td>\n",
       "</tr>\n",
       "<tr>\n",
       "     <td>1</td>      <td>8</td>    <td>0.0988</td>   <td>-4.7462</td> <td>4.9439</td>   <td>False</td>\n",
       "</tr>\n",
       "<tr>\n",
       "     <td>1</td>      <td>9</td>    <td>2.3098</td>   <td>-4.2183</td> <td>8.8379</td>   <td>False</td>\n",
       "</tr>\n",
       "<tr>\n",
       "     <td>2</td>      <td>3</td>    <td>-0.6634</td>  <td>-5.6918</td> <td>4.3649</td>   <td>False</td>\n",
       "</tr>\n",
       "<tr>\n",
       "     <td>2</td>      <td>4</td>    <td>-1.7959</td>  <td>-6.5634</td> <td>2.9715</td>   <td>False</td>\n",
       "</tr>\n",
       "<tr>\n",
       "     <td>2</td>      <td>5</td>    <td>0.8242</td>   <td>-5.8233</td> <td>7.4717</td>   <td>False</td>\n",
       "</tr>\n",
       "<tr>\n",
       "     <td>2</td>      <td>6</td>    <td>-4.1304</td> <td>-10.0599</td>  <td>1.799</td>   <td>False</td>\n",
       "</tr>\n",
       "<tr>\n",
       "     <td>2</td>      <td>7</td>    <td>1.3187</td>   <td>-4.5308</td> <td>7.1682</td>   <td>False</td>\n",
       "</tr>\n",
       "<tr>\n",
       "     <td>2</td>      <td>8</td>    <td>-2.3822</td>  <td>-7.6574</td> <td>2.8931</td>   <td>False</td>\n",
       "</tr>\n",
       "<tr>\n",
       "     <td>2</td>      <td>9</td>    <td>-0.1712</td>  <td>-7.0246</td> <td>6.6822</td>   <td>False</td>\n",
       "</tr>\n",
       "<tr>\n",
       "     <td>3</td>      <td>4</td>    <td>-1.1325</td>  <td>-5.5062</td> <td>3.2412</td>   <td>False</td>\n",
       "</tr>\n",
       "<tr>\n",
       "     <td>3</td>      <td>5</td>    <td>1.4877</td>   <td>-4.8834</td> <td>7.8587</td>   <td>False</td>\n",
       "</tr>\n",
       "<tr>\n",
       "     <td>3</td>      <td>6</td>    <td>-3.467</td>   <td>-9.0848</td> <td>2.1508</td>   <td>False</td>\n",
       "</tr>\n",
       "<tr>\n",
       "     <td>3</td>      <td>7</td>    <td>1.9821</td>   <td>-3.5512</td> <td>7.5155</td>   <td>False</td>\n",
       "</tr>\n",
       "<tr>\n",
       "     <td>3</td>      <td>8</td>    <td>-1.7188</td>  <td>-6.641</td>  <td>3.2035</td>   <td>False</td>\n",
       "</tr>\n",
       "<tr>\n",
       "     <td>3</td>      <td>9</td>    <td>0.4922</td>   <td>-6.0934</td> <td>7.0778</td>   <td>False</td>\n",
       "</tr>\n",
       "<tr>\n",
       "     <td>4</td>      <td>5</td>    <td>2.6201</td>   <td>-3.547</td>  <td>8.7873</td>   <td>False</td>\n",
       "</tr>\n",
       "<tr>\n",
       "     <td>4</td>      <td>6</td>    <td>-2.3345</td>   <td>-7.72</td>   <td>3.051</td>   <td>False</td>\n",
       "</tr>\n",
       "<tr>\n",
       "     <td>4</td>      <td>7</td>    <td>3.1146</td>   <td>-2.1828</td>  <td>8.412</td>   <td>False</td>\n",
       "</tr>\n",
       "<tr>\n",
       "     <td>4</td>      <td>8</td>    <td>-0.5863</td>  <td>-5.2417</td> <td>4.0692</td>   <td>False</td>\n",
       "</tr>\n",
       "<tr>\n",
       "     <td>4</td>      <td>9</td>    <td>1.6247</td>   <td>-4.7639</td> <td>8.0133</td>   <td>False</td>\n",
       "</tr>\n",
       "<tr>\n",
       "     <td>5</td>      <td>6</td>    <td>-4.9547</td> <td>-12.0585</td> <td>2.1492</td>   <td>False</td>\n",
       "</tr>\n",
       "<tr>\n",
       "     <td>5</td>      <td>7</td>    <td>0.4945</td>   <td>-6.5428</td> <td>7.5317</td>   <td>False</td>\n",
       "</tr>\n",
       "<tr>\n",
       "     <td>5</td>      <td>8</td>    <td>-3.2064</td>  <td>-9.774</td>  <td>3.3612</td>   <td>False</td>\n",
       "</tr>\n",
       "<tr>\n",
       "     <td>5</td>      <td>9</td>    <td>-0.9954</td>  <td>-8.8869</td>  <td>6.896</td>   <td>False</td>\n",
       "</tr>\n",
       "<tr>\n",
       "     <td>6</td>      <td>7</td>    <td>5.4491</td>   <td>-0.9142</td> <td>11.8125</td>  <td>False</td>\n",
       "</tr>\n",
       "<tr>\n",
       "     <td>6</td>      <td>8</td>    <td>1.7483</td>   <td>-4.0916</td> <td>7.5881</td>   <td>False</td>\n",
       "</tr>\n",
       "<tr>\n",
       "     <td>6</td>      <td>9</td>    <td>3.9592</td>   <td>-3.3377</td> <td>11.2561</td>  <td>False</td>\n",
       "</tr>\n",
       "<tr>\n",
       "     <td>7</td>      <td>8</td>    <td>-3.7009</td>  <td>-9.4595</td> <td>2.0577</td>   <td>False</td>\n",
       "</tr>\n",
       "<tr>\n",
       "     <td>7</td>      <td>9</td>    <td>-1.4899</td>  <td>-8.722</td>  <td>5.7422</td>   <td>False</td>\n",
       "</tr>\n",
       "<tr>\n",
       "     <td>8</td>      <td>9</td>     <td>2.211</td>   <td>-4.565</td>   <td>8.987</td>   <td>False</td>\n",
       "</tr>\n",
       "</table>"
      ],
      "text/plain": [
       "<class 'statsmodels.iolib.table.SimpleTable'>"
      ]
     },
     "execution_count": 1194,
     "metadata": {},
     "output_type": "execute_result"
    }
   ],
   "source": [
    "## Levene test - test the assumption of equal variance among the variables\n",
    "print (scipy.stats.levene(G,H,I,J,K,L,M,N,O,P))\n",
    "## ANOVA - test Ho that specific employees have no effect on quantity purchased\n",
    "print (scipy.stats.f_oneway(G,H,I,J,K,L,M,N,O,P))\n",
    "## Tukey test - further examine the employees differ from eachother in terms of significance\n",
    "Q2['EmployeeId'] = df['EmployeeId'].astype('category')\n",
    "mc = sm.stats.multicomp.MultiComparison(Q2['Quantity'],Q2['EmployeeId'])\n",
    "result = mc.tukeyhsd()\n",
    "result.summary()"
   ]
  },
  {
   "cell_type": "markdown",
   "metadata": {},
   "source": [
    "model = smf.ols(formula='Quantity ~ EmployeeId', data=Q2)\n",
    "results = model.fit()\n",
    "print (results.summary())"
   ]
  },
  {
   "cell_type": "markdown",
   "metadata": {},
   "source": [
    "# RESULT: FAILURE TO REJECT THE NULL HYPOTHESIS\n",
    "## Explanation:"
   ]
  },
  {
   "cell_type": "markdown",
   "metadata": {},
   "source": [
    " * **Levene test:** p-value > alpha, therefore the assumption of equal variance among discount groups is fulfilled.\n",
    " * **ANOVA:** F statistic value is 1.57 and the P value > alpha, showing that the null hypothesis cannot be rejected in favor of the alternative hypothesis, indicating there is no significant difference among employees sale numbers. \n",
    " * **Tukey Test:** confirms ANOVA results, as it fails to reject the null hypothesis with all comparisons"
   ]
  },
  {
   "cell_type": "markdown",
   "metadata": {},
   "source": [
    "## There is no significant difference in quantity of products sold per order between the nine employees of Northwind Trading."
   ]
  },
  {
   "cell_type": "code",
   "execution_count": 1195,
   "metadata": {
    "scrolled": true
   },
   "outputs": [
    {
     "data": {
      "text/plain": [
       "Text(0.5,1,'Number of Products Sold per Employee')"
      ]
     },
     "execution_count": 1195,
     "metadata": {},
     "output_type": "execute_result"
    },
    {
     "data": {
      "image/png": "[encoded data removed]",
      "text/plain": [
       "<Figure size 432x288 with 1 Axes>"
      ]
     },
     "metadata": {
      "needs_background": "light"
     },
     "output_type": "display_data"
    }
   ],
   "source": [
    "Employeedict = {'E1': sum(E1.Quantity), 'E2': sum(E2.Quantity), 'E3': sum(E3.Quantity), 'E4': sum(E4.Quantity), 'E5': sum(E5.Quantity), 'E6': sum(E6.Quantity), 'E7': sum(E7.Quantity), 'E8': sum(E8.Quantity), 'E9': sum(E9.Quantity)}\n",
    "Employeedata = pd.DataFrame.from_dict(Employeedict, orient='index', columns=['Quantity'])\n",
    "Employeedata = Employeedata.sort_values(by=Employeedata.columns[0])\n",
    "ax2 = sns.barplot(x=Employeedata.columns[0], y=Employeedata.index, data=Employeedata, palette=\"Reds_d\")\n",
    "ax2.set_xlabel('Quantity of Items Sold')\n",
    "ax2.set_ylabel('Employees')\n",
    "ax2.set_title('Number of Products Sold per Employee')"
   ]
  },
  {
   "cell_type": "code",
   "execution_count": 1196,
   "metadata": {},
   "outputs": [
    {
     "data": {
      "text/plain": [
       "Text(0.5,1,'Cumulative Sales by Employee')"
      ]
     },
     "execution_count": 1196,
     "metadata": {},
     "output_type": "execute_result"
    },
    {
     "data": {
      "image/png": "[encoded data removed]",
      "text/plain": [
       "<Figure size 432x288 with 1 Axes>"
      ]
     },
     "metadata": {
      "needs_background": "light"
     },
     "output_type": "display_data"
    }
   ],
   "source": [
    "Employeedict1 = {'E1': sum(E1.UnitPrice), 'E2': sum(E2.UnitPrice), 'E3': sum(E3.UnitPrice), 'E4': sum(E4.UnitPrice), 'E5': sum(E5.UnitPrice), 'E6': sum(E6.UnitPrice), 'E7': sum(E7.UnitPrice), 'E8': sum(E8.UnitPrice), 'E9': sum(E9.UnitPrice)}\n",
    "Employeedata1 = pd.DataFrame.from_dict(Employeedict1, orient='index', columns=['CumSales'])\n",
    "Employeedata1 = Employeedata1.sort_values(by=Employeedata1.columns[0])\n",
    "ax3 = sns.barplot(x=Employeedata1.columns[0], y=Employeedata1.index, data=Employeedata1, palette=\"Reds_d\")\n",
    "ax3.set_xlabel('Total Dollar Amount')\n",
    "ax3.set_ylabel('Employees')\n",
    "ax3.set_title('Cumulative Sales by Employee')"
   ]
  },
  {
   "cell_type": "markdown",
   "metadata": {},
   "source": [
    "We can see though, that certain employees do bring in more money and sell more items than others. This should be explored further in future work."
   ]
  },
  {
   "cell_type": "markdown",
   "metadata": {},
   "source": [
    "<a id='Part_2c'></a>"
   ]
  },
  {
   "cell_type": "markdown",
   "metadata": {},
   "source": [
    "## Question 3: Do certain countries purchase more products than others per order?"
   ]
  },
  {
   "cell_type": "markdown",
   "metadata": {},
   "source": [
    "## The Alternative and Null Hypothesis:\n",
    "#### 𝐻a: Customers from specific countries purchase a significantly different amount of products per order than others. (μ1 ≠ μ2 ≠ μ3 ... ≠ μk)\n",
    "#### 𝐻o: The customers from each country purchase the same average quantity of products per order. (μ1 = μ2 = μ3 ... = μk)"
   ]
  },
  {
   "cell_type": "code",
   "execution_count": 1216,
   "metadata": {},
   "outputs": [
    {
     "data": {
      "text/plain": [
       "array(['France', 'Switzerland', 'USA', 'Finland', 'UK', 'Brazil',\n",
       "       'Sweden', 'Portugal', 'Belgium', 'Mexico', 'Germany', 'Italy',\n",
       "       'Venezuela', 'Poland', 'Spain', 'Ireland', 'Austria', 'Canada',\n",
       "       'Denmark', 'Argentina', 'Norway'], dtype=object)"
      ]
     },
     "execution_count": 1216,
     "metadata": {},
     "output_type": "execute_result"
    }
   ],
   "source": [
    "country_names = Q3.ShipCountry.unique()\n",
    "country_names"
   ]
  },
  {
   "cell_type": "code",
   "execution_count": 1251,
   "metadata": {},
   "outputs": [],
   "source": [
    "# countrydict = {\"France\": dataframe, \"Switzerland\": df, ...}\n",
    "countrydict = {}\n",
    "for name in country_names:\n",
    "    key = name\n",
    "    value = Q3[Q3.ShipCountry == name]\n",
    "    countrydict[key] = value"
   ]
  },
  {
   "cell_type": "code",
   "execution_count": 1264,
   "metadata": {},
   "outputs": [
    {
     "data": {
      "text/plain": [
       "21.175972477659805"
      ]
     },
     "execution_count": 1264,
     "metadata": {},
     "output_type": "execute_result"
    }
   ],
   "source": [
    "tableMeans=[]\n",
    "for table in countrydict.values():\n",
    "    tableMeans.append(table.Quantity.mean())\n",
    "avgquantity = np.mean(tableMeans)\n",
    "avgquantity"
   ]
  },
  {
   "cell_type": "code",
   "execution_count": 1240,
   "metadata": {},
   "outputs": [],
   "source": [
    "country_samples = []\n",
    "for table in countrydict.values():\n",
    "    sample = table.iloc[:,[5]].values.flatten()\n",
    "    country_samples.append(list(sample))"
   ]
  },
  {
   "cell_type": "code",
   "execution_count": 1263,
   "metadata": {
    "scrolled": true
   },
   "outputs": [],
   "source": [
    "## Separating the dataframes by Country of the client\n",
    "France = Q3[Q3.ShipCountry == 'France']\n",
    "Switzerland = Q3[Q3.ShipCountry == 'Switzerland']\n",
    "USA = Q3[Q3.ShipCountry == 'USA']\n",
    "Finland = Q3[Q3.ShipCountry == 'Finland']\n",
    "UK = Q3[Q3.ShipCountry == 'UK']\n",
    "Brazil = Q3[Q3.ShipCountry == 'Brazil']\n",
    "Sweden = Q3[Q3.ShipCountry == 'Sweden']\n",
    "Portugal = Q3[Q3.ShipCountry == 'Portugal']\n",
    "Belgium = Q3[Q3.ShipCountry == 'Belgium']\n",
    "Mexico = Q3[Q3.ShipCountry == 'Mexico']\n",
    "Germany = Q3[Q3.ShipCountry == 'Germany']\n",
    "Italy = Q3[Q3.ShipCountry == 'Italy']\n",
    "Venezuela = Q3[Q3.ShipCountry == 'Venezuela']\n",
    "Poland = Q3[Q3.ShipCountry == 'Poland']\n",
    "Spain = Q3[Q3.ShipCountry == 'Spain']\n",
    "Ireland = Q3[Q3.ShipCountry == 'Ireland']\n",
    "Austria = Q3[Q3.ShipCountry == 'Austria']\n",
    "Canada = Q3[Q3.ShipCountry == 'Canada']\n",
    "Denmark = Q3[Q3.ShipCountry == 'Denmark']\n",
    "Argentina = Q3[Q3.ShipCountry == 'Argentina']\n",
    "Norway = Q3[Q3.ShipCountry == 'Norway']"
   ]
  },
  {
   "cell_type": "code",
   "execution_count": 1198,
   "metadata": {},
   "outputs": [],
   "source": [
    "## Creating np arrays with the new data frames\n",
    "C1 = France.iloc[:,[5]].as_matrix()\n",
    "C2 = Switzerland.iloc[:,[5]].as_matrix()\n",
    "C3 = USA.iloc[:,[5]].as_matrix()\n",
    "C4 = Finland.iloc[:,[5]].as_matrix()\n",
    "C5 = UK.iloc[:,[5]].as_matrix()\n",
    "C6 = Brazil.iloc[:,[5]].as_matrix()\n",
    "C7 = Sweden.iloc[:,[5]].as_matrix()\n",
    "C8 = Portugal.iloc[:,[5]].as_matrix()\n",
    "C9 = Belgium.iloc[:,[5]].as_matrix()\n",
    "C10 = Mexico.iloc[:,[5]].as_matrix()\n",
    "C11 = Germany.iloc[:,[5]].as_matrix()\n",
    "C12 = Italy.iloc[:,[5]].as_matrix()\n",
    "C13 = Venezuela.iloc[:,[5]].as_matrix()\n",
    "C14 = Poland.iloc[:,[5]].as_matrix()\n",
    "C15 = Spain.iloc[:,[5]].as_matrix()\n",
    "C16 = Ireland.iloc[:,[5]].as_matrix()\n",
    "C17 = Austria.iloc[:,[5]].as_matrix()\n",
    "C18 = Canada.iloc[:,[5]].as_matrix()\n",
    "C19 = Denmark.iloc[:,[5]].as_matrix()\n",
    "C20 = Argentina.iloc[:,[5]].as_matrix()\n",
    "C21 = Norway.iloc[:,[5]].as_matrix()"
   ]
  },
  {
   "cell_type": "code",
   "execution_count": 1199,
   "metadata": {
    "scrolled": true
   },
   "outputs": [
    {
     "name": "stdout",
     "output_type": "stream",
     "text": [
      "LeveneResult(statistic=array([10.19876936]), pvalue=array([3.29695314e-29]))\n",
      "KruskalResult(statistic=211.168702560053, pvalue=2.0199908465625844e-34)\n"
     ]
    }
   ],
   "source": [
    "## Levene test - test the assumption of equal variance among the variables\n",
    "print (scipy.stats.levene(C1, C2, C3, C4, C5, C6, C7, C8, C9, C10, C12, C13, C14, C15, C16, C17, C18, C19, C20, C21)) ## Levene test - test the assumption of equal variance among the variables\n",
    "## Kruskal-Wallis H test as an alternative to ANOVA; a rank based nonparametric test to determine if there are \n",
    "## statistically significant difference between two or more groups of an independent variable on a continuous \n",
    "## dependant variable\n",
    "print (scipy.stats.kruskal(C1, C2, C3, C4, C5, C6, C7, C8, C9, C10, C12, C13, C14, C15, C16, C17, C18, C19, C20, C21))"
   ]
  },
  {
   "cell_type": "markdown",
   "metadata": {},
   "source": [
    "# RESULT: REJECT THE NULL HYPOTHESIS\n",
    "## Explanation:"
   ]
  },
  {
   "cell_type": "markdown",
   "metadata": {},
   "source": [
    " * **Levene test:** p-value < alpha, indicating that the samples do not fulfill the assumption of equal variance\n",
    "\n",
    " * **Kruskal-Wallis H test:** there is a statistically significant difference among the quantities of items purchased per transaction between different countries."
   ]
  },
  {
   "cell_type": "markdown",
   "metadata": {},
   "source": [
    "## There is a significant difference in quantity of products ordered depending on the country it is ordered from."
   ]
  },
  {
   "cell_type": "code",
   "execution_count": 1200,
   "metadata": {
    "scrolled": false
   },
   "outputs": [
    {
     "data": {
      "text/html": [
       "<table class=\"simpletable\">\n",
       "<caption>OLS Regression Results</caption>\n",
       "<tr>\n",
       "  <th>Dep. Variable:</th>        <td>Quantity</td>     <th>  R-squared:         </th> <td>   0.119</td> \n",
       "</tr>\n",
       "<tr>\n",
       "  <th>Model:</th>                   <td>OLS</td>       <th>  Adj. R-squared:    </th> <td>   0.110</td> \n",
       "</tr>\n",
       "<tr>\n",
       "  <th>Method:</th>             <td>Least Squares</td>  <th>  F-statistic:       </th> <td>   14.36</td> \n",
       "</tr>\n",
       "<tr>\n",
       "  <th>Date:</th>             <td>Fri, 25 Jan 2019</td> <th>  Prob (F-statistic):</th> <td>7.99e-46</td> \n",
       "</tr>\n",
       "<tr>\n",
       "  <th>Time:</th>                 <td>17:56:33</td>     <th>  Log-Likelihood:    </th> <td> -9269.0</td> \n",
       "</tr>\n",
       "<tr>\n",
       "  <th>No. Observations:</th>      <td>  2155</td>      <th>  AIC:               </th> <td>1.858e+04</td>\n",
       "</tr>\n",
       "<tr>\n",
       "  <th>Df Residuals:</th>          <td>  2134</td>      <th>  BIC:               </th> <td>1.870e+04</td>\n",
       "</tr>\n",
       "<tr>\n",
       "  <th>Df Model:</th>              <td>    20</td>      <th>                     </th>     <td> </td>    \n",
       "</tr>\n",
       "<tr>\n",
       "  <th>Covariance Type:</th>      <td>nonrobust</td>    <th>                     </th>     <td> </td>    \n",
       "</tr>\n",
       "</table>\n",
       "<table class=\"simpletable\">\n",
       "<tr>\n",
       "       <td></td>          <th>coef</th>     <th>std err</th>      <th>t</th>      <th>P>|t|</th>  <th>[0.025</th>    <th>0.975]</th>  \n",
       "</tr>\n",
       "<tr>\n",
       "  <th>const</th>       <td>   20.9212</td> <td>    1.259</td> <td>   16.614</td> <td> 0.000</td> <td>   18.452</td> <td>   23.391</td>\n",
       "</tr>\n",
       "<tr>\n",
       "  <th>Argentina</th>   <td>  -10.9506</td> <td>    3.325</td> <td>   -3.294</td> <td> 0.001</td> <td>  -17.471</td> <td>   -4.431</td>\n",
       "</tr>\n",
       "<tr>\n",
       "  <th>Austria</th>     <td>   20.4148</td> <td>    2.040</td> <td>   10.008</td> <td> 0.000</td> <td>   16.414</td> <td>   24.415</td>\n",
       "</tr>\n",
       "<tr>\n",
       "  <th>Belgium</th>     <td>    3.9360</td> <td>    2.708</td> <td>    1.453</td> <td> 0.146</td> <td>   -1.375</td> <td>    9.247</td>\n",
       "</tr>\n",
       "<tr>\n",
       "  <th>Canada</th>      <td>    5.5322</td> <td>    2.424</td> <td>    2.282</td> <td> 0.023</td> <td>    0.778</td> <td>   10.287</td>\n",
       "</tr>\n",
       "<tr>\n",
       "  <th>Denmark</th>     <td>    4.5136</td> <td>    2.930</td> <td>    1.541</td> <td> 0.124</td> <td>   -1.232</td> <td>   10.259</td>\n",
       "</tr>\n",
       "<tr>\n",
       "  <th>Finland</th>     <td>   -4.5323</td> <td>    2.747</td> <td>   -1.650</td> <td> 0.099</td> <td>   -9.920</td> <td>    0.855</td>\n",
       "</tr>\n",
       "<tr>\n",
       "  <th>France</th>      <td>   -3.2364</td> <td>    1.826</td> <td>   -1.772</td> <td> 0.077</td> <td>   -6.818</td> <td>    0.345</td>\n",
       "</tr>\n",
       "<tr>\n",
       "  <th>Germany</th>     <td>    7.1672</td> <td>    1.602</td> <td>    4.473</td> <td> 0.000</td> <td>    4.025</td> <td>   10.309</td>\n",
       "</tr>\n",
       "<tr>\n",
       "  <th>Ireland</th>     <td>    9.6970</td> <td>    2.727</td> <td>    3.555</td> <td> 0.000</td> <td>    4.348</td> <td>   15.046</td>\n",
       "</tr>\n",
       "<tr>\n",
       "  <th>Italy</th>       <td>   -5.4117</td> <td>    2.768</td> <td>   -1.955</td> <td> 0.051</td> <td>  -10.839</td> <td>    0.016</td>\n",
       "</tr>\n",
       "<tr>\n",
       "  <th>Mexico</th>      <td>   -6.6851</td> <td>    2.461</td> <td>   -2.716</td> <td> 0.007</td> <td>  -11.511</td> <td>   -1.859</td>\n",
       "</tr>\n",
       "<tr>\n",
       "  <th>Norway</th>      <td>  -10.8587</td> <td>    4.659</td> <td>   -2.331</td> <td> 0.020</td> <td>  -19.995</td> <td>   -1.722</td>\n",
       "</tr>\n",
       "<tr>\n",
       "  <th>Poland</th>      <td>   -8.1087</td> <td>    4.659</td> <td>   -1.740</td> <td> 0.082</td> <td>  -17.245</td> <td>    1.028</td>\n",
       "</tr>\n",
       "<tr>\n",
       "  <th>Portugal</th>    <td>   -3.1545</td> <td>    3.509</td> <td>   -0.899</td> <td> 0.369</td> <td>  -10.037</td> <td>    3.728</td>\n",
       "</tr>\n",
       "<tr>\n",
       "  <th>Spain</th>       <td>   -7.6249</td> <td>    2.747</td> <td>   -2.776</td> <td> 0.006</td> <td>  -13.012</td> <td>   -2.237</td>\n",
       "</tr>\n",
       "<tr>\n",
       "  <th>Sweden</th>      <td>    2.1201</td> <td>    2.215</td> <td>    0.957</td> <td> 0.339</td> <td>   -2.223</td> <td>    6.463</td>\n",
       "</tr>\n",
       "<tr>\n",
       "  <th>Switzerland</th> <td>    3.5980</td> <td>    2.789</td> <td>    1.290</td> <td> 0.197</td> <td>   -1.871</td> <td>    9.067</td>\n",
       "</tr>\n",
       "<tr>\n",
       "  <th>UK</th>          <td>   -0.6101</td> <td>    1.993</td> <td>   -0.306</td> <td> 0.760</td> <td>   -4.518</td> <td>    3.297</td>\n",
       "</tr>\n",
       "<tr>\n",
       "  <th>USA</th>         <td>    5.5845</td> <td>    1.581</td> <td>    3.532</td> <td> 0.000</td> <td>    2.484</td> <td>    8.685</td>\n",
       "</tr>\n",
       "<tr>\n",
       "  <th>Venezuela</th>   <td>    3.9602</td> <td>    2.077</td> <td>    1.907</td> <td> 0.057</td> <td>   -0.113</td> <td>    8.033</td>\n",
       "</tr>\n",
       "</table>\n",
       "<table class=\"simpletable\">\n",
       "<tr>\n",
       "  <th>Omnibus:</th>       <td>661.982</td> <th>  Durbin-Watson:     </th> <td>   1.781</td>\n",
       "</tr>\n",
       "<tr>\n",
       "  <th>Prob(Omnibus):</th> <td> 0.000</td>  <th>  Jarque-Bera (JB):  </th> <td>2233.944</td>\n",
       "</tr>\n",
       "<tr>\n",
       "  <th>Skew:</th>          <td> 1.519</td>  <th>  Prob(JB):          </th> <td>    0.00</td>\n",
       "</tr>\n",
       "<tr>\n",
       "  <th>Kurtosis:</th>      <td> 6.956</td>  <th>  Cond. No.          </th> <td>    17.1</td>\n",
       "</tr>\n",
       "</table><br/><br/>Warnings:<br/>[1] Standard Errors assume that the covariance matrix of the errors is correctly specified."
      ],
      "text/plain": [
       "<class 'statsmodels.iolib.summary.Summary'>\n",
       "\"\"\"\n",
       "                            OLS Regression Results                            \n",
       "==============================================================================\n",
       "Dep. Variable:               Quantity   R-squared:                       0.119\n",
       "Model:                            OLS   Adj. R-squared:                  0.110\n",
       "Method:                 Least Squares   F-statistic:                     14.36\n",
       "Date:                Fri, 25 Jan 2019   Prob (F-statistic):           7.99e-46\n",
       "Time:                        17:56:33   Log-Likelihood:                -9269.0\n",
       "No. Observations:                2155   AIC:                         1.858e+04\n",
       "Df Residuals:                    2134   BIC:                         1.870e+04\n",
       "Df Model:                          20                                         \n",
       "Covariance Type:            nonrobust                                         \n",
       "===============================================================================\n",
       "                  coef    std err          t      P>|t|      [0.025      0.975]\n",
       "-------------------------------------------------------------------------------\n",
       "const          20.9212      1.259     16.614      0.000      18.452      23.391\n",
       "Argentina     -10.9506      3.325     -3.294      0.001     -17.471      -4.431\n",
       "Austria        20.4148      2.040     10.008      0.000      16.414      24.415\n",
       "Belgium         3.9360      2.708      1.453      0.146      -1.375       9.247\n",
       "Canada          5.5322      2.424      2.282      0.023       0.778      10.287\n",
       "Denmark         4.5136      2.930      1.541      0.124      -1.232      10.259\n",
       "Finland        -4.5323      2.747     -1.650      0.099      -9.920       0.855\n",
       "France         -3.2364      1.826     -1.772      0.077      -6.818       0.345\n",
       "Germany         7.1672      1.602      4.473      0.000       4.025      10.309\n",
       "Ireland         9.6970      2.727      3.555      0.000       4.348      15.046\n",
       "Italy          -5.4117      2.768     -1.955      0.051     -10.839       0.016\n",
       "Mexico         -6.6851      2.461     -2.716      0.007     -11.511      -1.859\n",
       "Norway        -10.8587      4.659     -2.331      0.020     -19.995      -1.722\n",
       "Poland         -8.1087      4.659     -1.740      0.082     -17.245       1.028\n",
       "Portugal       -3.1545      3.509     -0.899      0.369     -10.037       3.728\n",
       "Spain          -7.6249      2.747     -2.776      0.006     -13.012      -2.237\n",
       "Sweden          2.1201      2.215      0.957      0.339      -2.223       6.463\n",
       "Switzerland     3.5980      2.789      1.290      0.197      -1.871       9.067\n",
       "UK             -0.6101      1.993     -0.306      0.760      -4.518       3.297\n",
       "USA             5.5845      1.581      3.532      0.000       2.484       8.685\n",
       "Venezuela       3.9602      2.077      1.907      0.057      -0.113       8.033\n",
       "==============================================================================\n",
       "Omnibus:                      661.982   Durbin-Watson:                   1.781\n",
       "Prob(Omnibus):                  0.000   Jarque-Bera (JB):             2233.944\n",
       "Skew:                           1.519   Prob(JB):                         0.00\n",
       "Kurtosis:                       6.956   Cond. No.                         17.1\n",
       "==============================================================================\n",
       "\n",
       "Warnings:\n",
       "[1] Standard Errors assume that the covariance matrix of the errors is correctly specified.\n",
       "\"\"\""
      ]
     },
     "execution_count": 1200,
     "metadata": {},
     "output_type": "execute_result"
    }
   ],
   "source": [
    "# Performing a Multiple Linear Regression to examine which countries \n",
    "# purchase habits are statistically significant compared to the leave out group (Brazil = avg purchaser)\n",
    "countrydummies = pd.get_dummies(Q3['ShipCountry'], drop_first=False)\n",
    "# Dropping Brazil dummy since Brazil's avg q/o is closest to the mean q/o for all countries\n",
    "Q3dummies = countrydummies.drop(columns='Brazil') \n",
    "Q3final = pd.concat([df.Quantity, Q3dummies], axis=1)\n",
    "\n",
    "outcome = 'Quantity'\n",
    "predictors = Q3final.drop(columns=['Quantity'], axis=1)\n",
    "pred_sum = \"+\".join(predictors.columns)\n",
    "formula = outcome + \"~\" + pred_sum\n",
    "\n",
    "\n",
    "predictors_int = sm.tools.tools.add_constant(predictors)\n",
    "model = sm.OLS(Q3final['Quantity'],predictors_int).fit()\n",
    "model.summary()"
   ]
  },
  {
   "cell_type": "code",
   "execution_count": 1201,
   "metadata": {},
   "outputs": [],
   "source": [
    "# Creating a bar graph to visualize the data to get a closer look to provide the company with more insight on this\n",
    "datadict = {'France': sum(France.Quantity), 'Switzerland': sum(Switzerland.Quantity), 'USA': sum(USA.Quantity), 'Finland': sum(Finland.Quantity), 'UK': sum(UK.Quantity), 'Brazil': sum(Brazil.Quantity), 'Sweden': sum(Sweden.Quantity), 'Portugal': sum(Portugal.Quantity), 'Belgium': sum(Belgium.Quantity), 'Mexico': sum(Mexico.Quantity), 'Germany': sum(Germany.Quantity), 'Italy': sum(Italy.Quantity), 'Venezuela': sum(Venezuela.Quantity), 'Poland': sum(Poland.Quantity), 'Spain': sum(Spain.Quantity), 'Ireland': sum(Ireland.Quantity), 'Austria': sum(Austria.Quantity), 'Canada': sum(Canada.Quantity), 'Denmark': sum(Denmark.Quantity), 'Argentina': sum(Argentina.Quantity), 'Norway': sum(Norway.Quantity)}\n",
    "pricedict = {'France': sum(France.UnitPrice), 'Switzerland': sum(Switzerland.UnitPrice), 'USA': sum(USA.UnitPrice), 'Finland': sum(Finland.UnitPrice), 'UK': sum(UK.UnitPrice), 'Brazil': sum(Brazil.UnitPrice), 'Sweden': sum(Sweden.UnitPrice), 'Portugal': sum(Portugal.UnitPrice), 'Belgium': sum(Belgium.UnitPrice), 'Mexico': sum(Mexico.UnitPrice), 'Germany': sum(Germany.UnitPrice), 'Italy': sum(Italy.UnitPrice), 'Venezuela': sum(Venezuela.UnitPrice), 'Poland': sum(Poland.UnitPrice), 'Spain': sum(Spain.UnitPrice), 'Ireland': sum(Ireland.UnitPrice), 'Austria': sum(Austria.UnitPrice), 'Canada': sum(Canada.UnitPrice), 'Denmark': sum(Denmark.UnitPrice), 'Argentina': sum(Argentina.UnitPrice), 'Norway': sum(Norway.UnitPrice)}\n",
    "\n",
    "data = pd.DataFrame.from_dict(datadict, orient='index')\n",
    "prices = pd.DataFrame.from_dict(pricedict, orient='index')\n",
    "data = data.sort_values(by=data.columns[0])\n",
    "prices = prices.sort_values(by=prices.columns[0])"
   ]
  },
  {
   "cell_type": "code",
   "execution_count": 1202,
   "metadata": {
    "scrolled": true
   },
   "outputs": [
    {
     "data": {
      "text/plain": [
       "Text(0.5,1,'Number of Products Purchased by Country')"
      ]
     },
     "execution_count": 1202,
     "metadata": {},
     "output_type": "execute_result"
    },
    {
     "data": {
      "image/png": "[encoded data removed]",
      "text/plain": [
       "<Figure size 432x288 with 1 Axes>"
      ]
     },
     "metadata": {
      "needs_background": "light"
     },
     "output_type": "display_data"
    }
   ],
   "source": [
    "ax = sns.barplot(x=data.columns[0], y=data.index, data=data, palette=\"Blues_d\")\n",
    "ax.set_xlabel('Quantity of Items Purchased')\n",
    "ax.set_ylabel('Countries')\n",
    "ax.set_title('Number of Products Purchased by Country')"
   ]
  },
  {
   "cell_type": "code",
   "execution_count": 1203,
   "metadata": {},
   "outputs": [
    {
     "data": {
      "text/plain": [
       "Text(0.5,1,'Total Amount Spent by Country')"
      ]
     },
     "execution_count": 1203,
     "metadata": {},
     "output_type": "execute_result"
    },
    {
     "data": {
      "image/png": "[encoded data removed]",
      "text/plain": [
       "<Figure size 432x288 with 1 Axes>"
      ]
     },
     "metadata": {
      "needs_background": "light"
     },
     "output_type": "display_data"
    }
   ],
   "source": [
    "ax1 = sns.barplot(x=prices.columns[0], y=data.index, data=prices, palette='Blues_d')\n",
    "ax1.set_xlabel('Total Spent')\n",
    "ax1.set_ylabel('Country')\n",
    "ax1.set_title('Total Amount Spent by Country')"
   ]
  },
  {
   "cell_type": "code",
   "execution_count": 1204,
   "metadata": {
    "scrolled": true
   },
   "outputs": [],
   "source": [
    "# Calculating Cohen's d to examine the magnitude of differences between the UK and Germany in terms of sales\n",
    "\n",
    "Cohen_d(C11, C5)\n",
    "UK_rv = scipy.stats.norm(C5.mean(), C5.std())\n",
    "Germany_rv = scipy.stats.norm(C11.mean(), C11.std())\n",
    "UK_sample = UK_rv.rvs(1000)\n",
    "Germany_sample = Germany_rv.rvs(1000)\n",
    "DiffGerUK = (Germany_sample.mean()- UK_sample.mean())"
   ]
  },
  {
   "cell_type": "code",
   "execution_count": 1205,
   "metadata": {},
   "outputs": [
    {
     "name": "stdout",
     "output_type": "stream",
     "text": [
      "The Cohen's D value: 0.41, represents a somewhat medium effect of Germany vs. UK on the quantity purchased\n",
      "On average, there is a 29.2% increase in quantity of items purchased from Germany relative to the UK\n"
     ]
    }
   ],
   "source": [
    "print (\"The Cohen's D value: \" + str(round(Cohen_d(C11, C5), 2)) + ', represents a somewhat medium effect of Germany vs. UK on the quantity purchased') \n",
    "print ('On average, there is a ' + str(round((DiffGerUK / Germany_sample.mean())*100, 1)) + '% increase in quantity of items purchased from Germany relative to the UK')"
   ]
  },
  {
   "cell_type": "code",
   "execution_count": 1206,
   "metadata": {},
   "outputs": [
    {
     "name": "stdout",
     "output_type": "stream",
     "text": [
      "Our power is: 0.98, meaning if the effect is truly present between the UK and Germany, then the null hypothesis would be rejected 98% of times \n"
     ]
    }
   ],
   "source": [
    "power = smp.tt_ind_solve_power(effect_size=0.41, nobs1=135, alpha=0.05, power=None, ratio=2.42962962963)\n",
    "print('Our power is: {0:.2f}, meaning if the effect is truly present between the UK and Germany, then the null hypothesis would be rejected 98% of times '.format(power))"
   ]
  },
  {
   "cell_type": "code",
   "execution_count": 1207,
   "metadata": {},
   "outputs": [
    {
     "name": "stdout",
     "output_type": "stream",
     "text": [
      "Minimum required sample size: 335.08, Germanys sample size of 328 fulfull this requirement\n"
     ]
    }
   ],
   "source": [
    "sample_size = smp.tt_ind_solve_power(effect_size=0.41, nobs1=135, alpha=0.05, power=0.98, ratio=None)\n",
    "print('Minimum required sample size: {0:.2f}, Germanys sample size of 328 fulfull this requirement'.format(sample_size*135))"
   ]
  },
  {
   "cell_type": "markdown",
   "metadata": {},
   "source": [
    "<a id='Part_2d'></a>"
   ]
  },
  {
   "cell_type": "markdown",
   "metadata": {},
   "source": [
    "## Question 4: Do clients purchase significantly more meat or vegetarian items?"
   ]
  },
  {
   "cell_type": "markdown",
   "metadata": {},
   "source": [
    "## The Alternative and Null Hypothesis:\n",
    "### 𝐻a: There is a difference between the average quantity of meat vs. vegetarian items purchased. (H1: μ1 ≠ μ2)\n",
    "### 𝐻o: There is no difference between the average quantity of meat vs. vegetarian items purchased. (H0: μ1 = μ2)"
   ]
  },
  {
   "cell_type": "code",
   "execution_count": 1208,
   "metadata": {},
   "outputs": [
    {
     "name": "stdout",
     "output_type": "stream",
     "text": [
      "There were a total number of 2551 Vegetarian items purchased\n",
      "The sample size of the Vegetarian products is 109\n",
      "There were a total number of 9185 Meat items purchased\n",
      "The sample size of the Meat products is 373\n"
     ]
    }
   ],
   "source": [
    "# For your information:\n",
    "print('There were a total number of ' + str(sum(Veg.Quantity)) + ' Vegetarian items purchased')\n",
    "print('The sample size of the Vegetarian products is ' + str(len(Veg)))\n",
    "print('There were a total number of ' + str(sum(Meat.Quantity)) + ' Meat items purchased')\n",
    "print('The sample size of the Meat products is ' + str(len(Meat)))"
   ]
  },
  {
   "cell_type": "code",
   "execution_count": 1209,
   "metadata": {
    "scrolled": true
   },
   "outputs": [
    {
     "name": "stdout",
     "output_type": "stream",
     "text": [
      "LeveneResult(statistic=array([1.824073]), pvalue=array([0.1774656]))\n",
      "Ttest_indResult(statistic=array([-0.56759467]), pvalue=array([0.5705756]))\n"
     ]
    }
   ],
   "source": [
    "# Separating the dataframes by the product's category ID where category 8 = Meat items, category 7 = Vegetarian items\n",
    "\n",
    "Quantity = Q4.Quantity\n",
    "Meat = Q4[Q4.CategoryId == 8]\n",
    "Veg = Q4[Q4.CategoryId == 7]\n",
    "\n",
    "## Creating np arrays with the new data frames\n",
    "V = Veg.iloc[:,[1]].as_matrix()\n",
    "Z = Meat.iloc[:,[1]].as_matrix()\n",
    "Q4data = pd.concat([Meat, Veg], axis=0)\n",
    "\n",
    "## Levene test - test the assumption of equal variance among the variables\n",
    "print (scipy.stats.levene(V,Z))\n",
    "## Two sample t-test to test for statistically significant difference between two groups\n",
    "print (stats.ttest_ind(V,Z))"
   ]
  },
  {
   "cell_type": "code",
   "execution_count": 1210,
   "metadata": {},
   "outputs": [
    {
     "data": {
      "text/plain": [
       "False"
      ]
     },
     "execution_count": 1210,
     "metadata": {},
     "output_type": "execute_result"
    }
   ],
   "source": [
    "pvalue = 0.5705756 / 2\n",
    "pvalue < alpha"
   ]
  },
  {
   "cell_type": "markdown",
   "metadata": {},
   "source": [
    "# RESULT: FAILURE TO REJECT THE NULL HYPOTHESIS\n",
    "## Explanation:"
   ]
  },
  {
   "cell_type": "markdown",
   "metadata": {},
   "source": [
    " * **Levene test:** p-value > alpha value, therefore the assumption of equal variance is fulfilled\n",
    " * **Two Sample T-Test:** p-value > alpha, therefore we CANNOT REJECT the null hypothesis and we can conclude:"
   ]
  },
  {
   "cell_type": "markdown",
   "metadata": {},
   "source": [
    "## There is no significant difference in quantity of vegetarian products ordered vs. meat products ordered per order."
   ]
  },
  {
   "cell_type": "code",
   "execution_count": 1211,
   "metadata": {},
   "outputs": [
    {
     "data": {
      "text/html": [
       "<table class=\"simpletable\">\n",
       "<caption>OLS Regression Results</caption>\n",
       "<tr>\n",
       "  <th>Dep. Variable:</th>        <td>Quantity</td>     <th>  R-squared:         </th> <td>   0.001</td>\n",
       "</tr>\n",
       "<tr>\n",
       "  <th>Model:</th>                   <td>OLS</td>       <th>  Adj. R-squared:    </th> <td>  -0.001</td>\n",
       "</tr>\n",
       "<tr>\n",
       "  <th>Method:</th>             <td>Least Squares</td>  <th>  F-statistic:       </th> <td>  0.3222</td>\n",
       "</tr>\n",
       "<tr>\n",
       "  <th>Date:</th>             <td>Fri, 25 Jan 2019</td> <th>  Prob (F-statistic):</th>  <td> 0.571</td> \n",
       "</tr>\n",
       "<tr>\n",
       "  <th>Time:</th>                 <td>17:57:23</td>     <th>  Log-Likelihood:    </th> <td> -2121.0</td>\n",
       "</tr>\n",
       "<tr>\n",
       "  <th>No. Observations:</th>      <td>   482</td>      <th>  AIC:               </th> <td>   4246.</td>\n",
       "</tr>\n",
       "<tr>\n",
       "  <th>Df Residuals:</th>          <td>   480</td>      <th>  BIC:               </th> <td>   4254.</td>\n",
       "</tr>\n",
       "<tr>\n",
       "  <th>Df Model:</th>              <td>     1</td>      <th>                     </th>     <td> </td>   \n",
       "</tr>\n",
       "<tr>\n",
       "  <th>Covariance Type:</th>      <td>nonrobust</td>    <th>                     </th>     <td> </td>   \n",
       "</tr>\n",
       "</table>\n",
       "<table class=\"simpletable\">\n",
       "<tr>\n",
       "       <td></td>         <th>coef</th>     <th>std err</th>      <th>t</th>      <th>P>|t|</th>  <th>[0.025</th>    <th>0.975]</th>  \n",
       "</tr>\n",
       "<tr>\n",
       "  <th>Intercept</th>  <td>   23.4037</td> <td>    1.892</td> <td>   12.367</td> <td> 0.000</td> <td>   19.685</td> <td>   27.122</td>\n",
       "</tr>\n",
       "<tr>\n",
       "  <th>CategoryId</th> <td>    1.2210</td> <td>    2.151</td> <td>    0.568</td> <td> 0.571</td> <td>   -3.006</td> <td>    5.448</td>\n",
       "</tr>\n",
       "</table>\n",
       "<table class=\"simpletable\">\n",
       "<tr>\n",
       "  <th>Omnibus:</th>       <td>157.989</td> <th>  Durbin-Watson:     </th> <td>   1.235</td>\n",
       "</tr>\n",
       "<tr>\n",
       "  <th>Prob(Omnibus):</th> <td> 0.000</td>  <th>  Jarque-Bera (JB):  </th> <td> 422.402</td>\n",
       "</tr>\n",
       "<tr>\n",
       "  <th>Skew:</th>          <td> 1.621</td>  <th>  Prob(JB):          </th> <td>1.89e-92</td>\n",
       "</tr>\n",
       "<tr>\n",
       "  <th>Kurtosis:</th>      <td> 6.245</td>  <th>  Cond. No.          </th> <td>    3.99</td>\n",
       "</tr>\n",
       "</table><br/><br/>Warnings:<br/>[1] Standard Errors assume that the covariance matrix of the errors is correctly specified."
      ],
      "text/plain": [
       "<class 'statsmodels.iolib.summary.Summary'>\n",
       "\"\"\"\n",
       "                            OLS Regression Results                            \n",
       "==============================================================================\n",
       "Dep. Variable:               Quantity   R-squared:                       0.001\n",
       "Model:                            OLS   Adj. R-squared:                 -0.001\n",
       "Method:                 Least Squares   F-statistic:                    0.3222\n",
       "Date:                Fri, 25 Jan 2019   Prob (F-statistic):              0.571\n",
       "Time:                        17:57:23   Log-Likelihood:                -2121.0\n",
       "No. Observations:                 482   AIC:                             4246.\n",
       "Df Residuals:                     480   BIC:                             4254.\n",
       "Df Model:                           1                                         \n",
       "Covariance Type:            nonrobust                                         \n",
       "==============================================================================\n",
       "                 coef    std err          t      P>|t|      [0.025      0.975]\n",
       "------------------------------------------------------------------------------\n",
       "Intercept     23.4037      1.892     12.367      0.000      19.685      27.122\n",
       "CategoryId     1.2210      2.151      0.568      0.571      -3.006       5.448\n",
       "==============================================================================\n",
       "Omnibus:                      157.989   Durbin-Watson:                   1.235\n",
       "Prob(Omnibus):                  0.000   Jarque-Bera (JB):              422.402\n",
       "Skew:                           1.621   Prob(JB):                     1.89e-92\n",
       "Kurtosis:                       6.245   Cond. No.                         3.99\n",
       "==============================================================================\n",
       "\n",
       "Warnings:\n",
       "[1] Standard Errors assume that the covariance matrix of the errors is correctly specified.\n",
       "\"\"\""
      ]
     },
     "execution_count": 1211,
     "metadata": {},
     "output_type": "execute_result"
    }
   ],
   "source": [
    "## A Simple Linear Regression with the categorical variable 'Category Id' will confirm this conclusion\n",
    "for i in Q4data['CategoryId']:\n",
    "    if i == 8:\n",
    "        Q4data.CategoryId.replace(i, 1, inplace=True)\n",
    "        \n",
    "    else:\n",
    "        Q4data.CategoryId.replace(i, 0, inplace=True)\n",
    "        \n",
    "\n",
    "Q4data['CategoryId'] = Q4data.CategoryId.astype(int)\n",
    "reg = smf.ols(\"Quantity ~ CategoryId\", data = Q4data).fit()\n",
    "reg.summary()"
   ]
  },
  {
   "cell_type": "markdown",
   "metadata": {},
   "source": [
    "## Our Probability (F-statistic) of 0.571 > alpha; our conclusion is confirmed."
   ]
  },
  {
   "cell_type": "markdown",
   "metadata": {},
   "source": [
    "<a id='Part_3'></a>"
   ]
  },
  {
   "cell_type": "markdown",
   "metadata": {},
   "source": [
    "# Part 3: Conclusions:"
   ]
  },
  {
   "cell_type": "markdown",
   "metadata": {},
   "source": [
    "  * **Discounts do in fact have an effect on the quantity of items purchased per order. There is an approximately 20% increase in the number of items ordered when a 15% discount is applied to items, and an approximately 19% increase when a 5% discount is applied to items, relative to no discount.** "
   ]
  },
  {
   "cell_type": "markdown",
   "metadata": {},
   "source": [
    " * **Specific Employees have no effect on the quantity of items purchased per transaction. However, certain employees have overall sold more items and have brought in more money compared to others, but this may be attributed to hire-date.**"
   ]
  },
  {
   "cell_type": "markdown",
   "metadata": {},
   "source": [
    " * **Certain countries purchase significantly more quantity of items per transaction than others. Germany purchases approximately 25% more items per transaction than the UK.**"
   ]
  },
  {
   "cell_type": "markdown",
   "metadata": {},
   "source": [
    " * **There is no statistically significant difference between the number of vegetarian items purchased per transaction and the number of meat products purchased per transaction.**"
   ]
  },
  {
   "cell_type": "markdown",
   "metadata": {},
   "source": [
    "<a id='Part_4'></a>"
   ]
  },
  {
   "cell_type": "markdown",
   "metadata": {},
   "source": [
    "# Part 4: Future Work"
   ]
  },
  {
   "cell_type": "markdown",
   "metadata": {},
   "source": [
    " * **Examine specific customer trends since our linear regression showed this to be a significant predictor of the quantity of items ordered per transaction.**"
   ]
  },
  {
   "cell_type": "markdown",
   "metadata": {},
   "source": [
    " * **Examine employee sales adjusting for hire-date to determine if there are any employees bringing in more money.**"
   ]
  },
  {
   "cell_type": "markdown",
   "metadata": {},
   "source": [
    " * **Examine the relationships between other types of products and thier sales numbers to determine whether or not they sell better than others.**"
   ]
  }
 ],
 "metadata": {
  "kernelspec": {
   "display_name": "Python 3",
   "language": "python",
   "name": "python3"
  },
  "language_info": {
   "codemirror_mode": {
    "name": "ipython",
    "version": 3
   },
   "file_extension": ".py",
   "mimetype": "text/x-python",
   "name": "python",
   "nbconvert_exporter": "python",
   "pygments_lexer": "ipython3",
   "version": "3.7.0"
  }
 },
 "nbformat": 4,
 "nbformat_minor": 2
}
